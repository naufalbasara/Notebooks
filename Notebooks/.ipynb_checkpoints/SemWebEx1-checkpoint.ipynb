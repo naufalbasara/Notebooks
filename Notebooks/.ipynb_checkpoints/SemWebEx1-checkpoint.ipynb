{
 "cells": [
  {
   "cell_type": "markdown",
   "metadata": {},
   "source": [
    "Nama: Naufal Rafiawan Basara <br>\n",
    "NRP: 5026201117"
   ]
  },
  {
   "cell_type": "code",
   "execution_count": 1,
   "metadata": {
    "deletable": false,
    "editable": false,
    "nbgrader": {
     "cell_type": "code",
     "checksum": "73c565738f463863ec6757fecc9af9bf",
     "grade": false,
     "grade_id": "cell-da806457bddca4c8",
     "locked": true,
     "schema_version": 3,
     "solution": false,
     "task": false
    }
   },
   "outputs": [
    {
     "data": {
      "application/javascript": [
       "\n",
       "    if (typeof IPython !== \"undefined\") {\n",
       "        IPython.CodeCell.options_default.highlight_modes['application/sparql-query'] = {'reg':[/^%%rdf sparql/]};\n",
       "        IPython.CodeCell.options_default.highlight_modes['text/turtle'] = {'reg':[/^%%rdf turtle/, /^%%rdf shex/]};\n",
       "        IPython.CodeCell.options_default.highlight_modes['application/ld+json'] = {'reg':[/^%%rdf json-ld/]};\n",
       "        IPython.notebook.get_cells().map(function(cell){ if (cell.cell_type == 'code'){ cell.auto_highlight(); } });\n",
       "    }\n",
       "    "
      ]
     },
     "metadata": {},
     "output_type": "display_data"
    }
   ],
   "source": [
    "%reload_ext jupyter-rdfify"
   ]
  },
  {
   "cell_type": "markdown",
   "metadata": {
    "deletable": false,
    "editable": false,
    "nbgrader": {
     "cell_type": "markdown",
     "checksum": "747a7aa1da3e923b1e595bd9a2561c87",
     "grade": false,
     "grade_id": "cell-147e9d5d78c18ec7",
     "locked": true,
     "schema_version": 3,
     "solution": false,
     "task": false
    }
   },
   "source": [
    "**A small reminder that these assignments will be graded automatically. Please read the tasks carefully and be as pedantic as possible. Run your answers to check if your code parses correctly. Typing errors will lead to point loss. Do not change code that is already given as this may break the unit tests and lead to 0 points. Do not use comments in your code.**"
   ]
  },
  {
   "cell_type": "markdown",
   "metadata": {
    "deletable": false,
    "editable": false,
    "nbgrader": {
     "cell_type": "markdown",
     "checksum": "36191cdbb140b5ac7301deda4207ab36",
     "grade": false,
     "grade_id": "cell-baccffb6bb4a152d",
     "locked": true,
     "schema_version": 3,
     "solution": false,
     "task": false
    }
   },
   "source": [
    "# Turtle\n",
    "*Turtle* stands for **Terse RDF Triple Language** and is a [W3C recommended](https://www.w3.org/TR/turtle/) syntax and file format for serializing RDF Graphs. To serialize an RDF triple of the form *(Subject, Predicate, Object)* in Turtle, you just write them in that sequence, followed by a period. In this example you would write:\n",
    "\n",
    "**Subject Predicate Object .**\n",
    "\n",
    "Please note the period after a triple.\n",
    "\n",
    "In turtle, URIs are encased in angled brackets (&lt; &gt;). The RDF triple *(http://example.org/#Germany, http://example.org/#capital, http://example.org/#Berlin)* is serialized like this:\n",
    "\n",
    "**&lt;http://example.org/#Germany&gt; &lt;http://example.org/#capital&gt; &lt;http://example.org/#Berlin&gt; .**\n",
    "\n",
    "**Because of its very simple syntax, Turtle is intuitive and human-readable.**\n",
    "\n",
    "### Syntactic sugar:\n",
    "Because subjects or subject-predicate-combinations often repeat in the same graph, Turtle introduces some syntactic sugar.\n",
    "To repeat a subject, one can use a semicolon instead of a period after a triple. To express that germany has the capital Berlin and the state Bavaria, one would write the following:\n",
    "\n",
    "**&lt;http://example.org/#Germany&gt; &lt;http://example.org/#capital&gt; &lt;http://example.org/#Berlin&gt; ;  \n",
    "&nbsp;&nbsp;&nbsp;&nbsp;&lt;http://example.org/#state&gt; &lt;http://example.org/#Bavaria&gt; .**\n",
    "\n",
    "To repeat a subject-predicate-combination, one can use a comma instead of a period after the triple. To express that germany has the state Berlin and the state Bavaria, one would write the following:\n",
    "\n",
    "**&lt;http://example.org/#Germany&gt; &lt;http://example.org/#state&gt; &lt;http://example.org/#Berlin&gt; ,  \n",
    "&nbsp;&nbsp;&nbsp;&nbsp;&lt;http://example.org/#Bavaria&gt; .**\n",
    "\n",
    "Both of these can be chained to repeat the same subject/subject-predicate-combination over and over.\n",
    "\n",
    "**You are allowed and even encouraged to use syntactic sugar throughout all our assignments.**\n",
    "    "
   ]
  },
  {
   "cell_type": "markdown",
   "metadata": {
    "deletable": false,
    "editable": false,
    "nbgrader": {
     "cell_type": "markdown",
     "checksum": "4bd660d81b6f246a1e419d24ca0644ee",
     "grade": false,
     "grade_id": "cell-5e8f9a1e110133aa",
     "locked": true,
     "schema_version": 3,
     "solution": false,
     "task": false
    }
   },
   "source": [
    "## Task 1: My first Graph [6 points]\n",
    "### 1a) Sightseeing [3 points]\n",
    "The task is to create an RDF graph about places of interest using Turtle. The graph must contain the following Sights and their locations: The Louvre, the Colosseum and the Eiffel Tower.\n",
    "\n",
    "The graph should contain the following information: Both the **Louvre** and the **Eiffel Tower** are **located in** **France**. The **Colosseum** is **located in** **Italy**. **All** three **are sights**.\n",
    "\n",
    "Use the following URIs:  \n",
    "The Louvre: http://example.org/sights#Louvre  \n",
    "The Colosseum: http://example.org/sights#Colosseum  \n",
    "The Eiffel Tower: http://example.org/sights#EiffelTower  \n",
    "Located in: http://example.org/properties#locatedIn  \n",
    "France: http://example.org/countries#France  \n",
    "Italy: http://example.org/countries#Italy  \n",
    "Sight: http://example.org/classes#Sight  \n",
    "Is of type: http://www.w3.org/1999/02/22-rdf-syntax-ns#type\n",
    "\n",
    "**Do not use or define CURIEs (Prefixes) in this part of the task. The graph must not contain additional triples.**"
   ]
  },
  {
   "cell_type": "code",
   "execution_count": 56,
   "metadata": {
    "deletable": false,
    "nbgrader": {
     "cell_type": "code",
     "checksum": "66ae973e1d9e00f6cfa1d75897aa74ac",
     "grade": false,
     "grade_id": "cell-a625a6dee09ca0d5",
     "locked": false,
     "schema_version": 3,
     "solution": true,
     "task": false
    }
   },
   "outputs": [
    {
     "data": {
      "image/svg+xml": [
       "<?xml version=\"1.0\" encoding=\"UTF-8\" standalone=\"no\"?>\n",
       "<!DOCTYPE svg PUBLIC \"-//W3C//DTD SVG 1.1//EN\"\n",
       " \"http://www.w3.org/Graphics/SVG/1.1/DTD/svg11.dtd\">\n",
       "<!-- Generated by graphviz version 2.50.0 (0)\n",
       " -->\n",
       "<!-- Pages: 1 -->\n",
       "<svg width=\"1010pt\" height=\"131pt\"\n",
       " viewBox=\"0.00 0.00 1010.29 131.00\" xmlns=\"http://www.w3.org/2000/svg\" xmlns:xlink=\"http://www.w3.org/1999/xlink\">\n",
       "<g id=\"graph0\" class=\"graph\" transform=\"scale(1 1) rotate(0) translate(4 127)\">\n",
       "<polygon fill=\"white\" stroke=\"transparent\" points=\"-4,4 -4,-127 1006.29,-127 1006.29,4 -4,4\"/>\n",
       "<!-- 0 -->\n",
       "<g id=\"node1\" class=\"node\">\n",
       "<title>0</title>\n",
       "<ellipse fill=\"none\" stroke=\"black\" cx=\"161.29\" cy=\"-105\" rx=\"142.97\" ry=\"18\"/>\n",
       "<text text-anchor=\"start\" x=\"59.29\" y=\"-101.3\" font-family=\"Times,serif\" font-size=\"14.00\">http://example.org/sights#Colosseum</text>\n",
       "</g>\n",
       "<!-- 2 -->\n",
       "<g id=\"node3\" class=\"node\">\n",
       "<title>2</title>\n",
       "<ellipse fill=\"none\" stroke=\"black\" cx=\"436.29\" cy=\"-18\" rx=\"126.18\" ry=\"18\"/>\n",
       "<text text-anchor=\"start\" x=\"347.29\" y=\"-14.3\" font-family=\"Times,serif\" font-size=\"14.00\">http://example.org/classes#Sight</text>\n",
       "</g>\n",
       "<!-- 0&#45;&gt;2 -->\n",
       "<g id=\"edge2\" class=\"edge\">\n",
       "<title>0&#45;&gt;2</title>\n",
       "<path fill=\"none\" stroke=\"black\" d=\"M259.51,-91.91C288.62,-86.66 320.22,-79.27 348.29,-69 367.5,-61.97 387.44,-50.99 403.47,-41.11\"/>\n",
       "<polygon fill=\"black\" stroke=\"black\" points=\"405.36,-44.06 411.95,-35.76 401.62,-38.14 405.36,-44.06\"/>\n",
       "<text text-anchor=\"middle\" x=\"402.79\" y=\"-57.8\" font-family=\"Times,serif\" font-size=\"14.00\">rdf:type</text>\n",
       "</g>\n",
       "<!-- 5 -->\n",
       "<g id=\"node6\" class=\"node\">\n",
       "<title>5</title>\n",
       "<ellipse fill=\"none\" stroke=\"black\" cx=\"131.29\" cy=\"-18\" rx=\"131.08\" ry=\"18\"/>\n",
       "<text text-anchor=\"start\" x=\"38.29\" y=\"-14.3\" font-family=\"Times,serif\" font-size=\"14.00\">http://example.org/countries#Italy</text>\n",
       "</g>\n",
       "<!-- 0&#45;&gt;5 -->\n",
       "<g id=\"edge6\" class=\"edge\">\n",
       "<title>0&#45;&gt;5</title>\n",
       "<path fill=\"none\" stroke=\"black\" d=\"M143.34,-86.97C138.89,-81.68 134.71,-75.51 132.29,-69 129.66,-61.92 128.7,-53.88 128.58,-46.34\"/>\n",
       "<polygon fill=\"black\" stroke=\"black\" points=\"132.08,-46.29 128.88,-36.19 125.09,-46.08 132.08,-46.29\"/>\n",
       "<text text-anchor=\"start\" x=\"132.29\" y=\"-57.8\" font-family=\"Times,serif\" font-size=\"14.00\">http://example.org/properties#locatedIn</text>\n",
       "</g>\n",
       "<!-- 1 -->\n",
       "<g id=\"node2\" class=\"node\">\n",
       "<title>1</title>\n",
       "<ellipse fill=\"none\" stroke=\"black\" cx=\"774.29\" cy=\"-105\" rx=\"146.47\" ry=\"18\"/>\n",
       "<text text-anchor=\"start\" x=\"669.79\" y=\"-101.3\" font-family=\"Times,serif\" font-size=\"14.00\">http://example.org/sights#EiffelTower</text>\n",
       "</g>\n",
       "<!-- 1&#45;&gt;2 -->\n",
       "<g id=\"edge1\" class=\"edge\">\n",
       "<title>1&#45;&gt;2</title>\n",
       "<path fill=\"none\" stroke=\"black\" d=\"M756.64,-86.96C742.3,-73.29 723.74,-56.05 719.29,-54 703.58,-46.79 620.76,-37.02 548.74,-29.64\"/>\n",
       "<polygon fill=\"black\" stroke=\"black\" points=\"548.96,-26.15 538.66,-28.62 548.26,-33.11 548.96,-26.15\"/>\n",
       "<text text-anchor=\"middle\" x=\"758.79\" y=\"-57.8\" font-family=\"Times,serif\" font-size=\"14.00\">rdf:type</text>\n",
       "</g>\n",
       "<!-- 4 -->\n",
       "<g id=\"node5\" class=\"node\">\n",
       "<title>4</title>\n",
       "<ellipse fill=\"none\" stroke=\"black\" cx=\"763.29\" cy=\"-18\" rx=\"139.18\" ry=\"18\"/>\n",
       "<text text-anchor=\"start\" x=\"664.29\" y=\"-14.3\" font-family=\"Times,serif\" font-size=\"14.00\">http://example.org/countries#France</text>\n",
       "</g>\n",
       "<!-- 1&#45;&gt;4 -->\n",
       "<g id=\"edge5\" class=\"edge\">\n",
       "<title>1&#45;&gt;4</title>\n",
       "<path fill=\"none\" stroke=\"black\" d=\"M782.32,-86.74C785.77,-77.04 788.39,-64.76 785.29,-54 784.42,-50.99 783.21,-48 781.8,-45.09\"/>\n",
       "<polygon fill=\"black\" stroke=\"black\" points=\"784.76,-43.21 776.79,-36.23 778.67,-46.66 784.76,-43.21\"/>\n",
       "<text text-anchor=\"start\" x=\"786.29\" y=\"-57.8\" font-family=\"Times,serif\" font-size=\"14.00\">http://example.org/properties#locatedIn</text>\n",
       "</g>\n",
       "<!-- 3 -->\n",
       "<g id=\"node4\" class=\"node\">\n",
       "<title>3</title>\n",
       "<ellipse fill=\"none\" stroke=\"black\" cx=\"458.29\" cy=\"-105\" rx=\"128.88\" ry=\"18\"/>\n",
       "<text text-anchor=\"start\" x=\"367.29\" y=\"-101.3\" font-family=\"Times,serif\" font-size=\"14.00\">http://example.org/sights#Louvre</text>\n",
       "</g>\n",
       "<!-- 3&#45;&gt;2 -->\n",
       "<g id=\"edge4\" class=\"edge\">\n",
       "<title>3&#45;&gt;2</title>\n",
       "<path fill=\"none\" stroke=\"black\" d=\"M445.7,-87.03C442.31,-81.55 439.09,-75.27 437.29,-69 435.23,-61.85 434.44,-53.89 434.3,-46.46\"/>\n",
       "<polygon fill=\"black\" stroke=\"black\" points=\"437.8,-46.51 434.46,-36.45 430.8,-46.39 437.8,-46.51\"/>\n",
       "<text text-anchor=\"middle\" x=\"458.79\" y=\"-57.8\" font-family=\"Times,serif\" font-size=\"14.00\">rdf:type</text>\n",
       "</g>\n",
       "<!-- 3&#45;&gt;4 -->\n",
       "<g id=\"edge3\" class=\"edge\">\n",
       "<title>3&#45;&gt;4</title>\n",
       "<path fill=\"none\" stroke=\"black\" d=\"M469.07,-86.72C477.07,-75.47 489.04,-61.53 503.29,-54 526.23,-41.89 580.23,-33.62 633.11,-28.18\"/>\n",
       "<polygon fill=\"black\" stroke=\"black\" points=\"633.71,-31.64 643.31,-27.16 633.01,-24.67 633.71,-31.64\"/>\n",
       "<text text-anchor=\"start\" x=\"503.29\" y=\"-57.8\" font-family=\"Times,serif\" font-size=\"14.00\">http://example.org/properties#locatedIn</text>\n",
       "</g>\n",
       "</g>\n",
       "</svg>\n"
      ],
      "text/plain": [
       "<graphviz.graphs.Digraph at 0x107542800>"
      ]
     },
     "metadata": {},
     "output_type": "display_data"
    }
   ],
   "source": [
    "%%rdf turtle -l sights\n",
    "### YOUR SOLUTION HERE\n",
    "<http://example.org/sights#Louvre> <http://example.org/properties#locatedIn> <http://example.org/countries#France>;\n",
    "<http://www.w3.org/1999/02/22-rdf-syntax-ns#type> <http://example.org/classes#Sight>.\n",
    "<http://example.org/sights#EiffelTower> <http://example.org/properties#locatedIn> <http://example.org/countries#France>;\n",
    "<http://www.w3.org/1999/02/22-rdf-syntax-ns#type> <http://example.org/classes#Sight>.\n",
    "<http://example.org/sights#Colosseum> <http://example.org/properties#locatedIn> <http://example.org/countries#Italy>;\n",
    "<http://www.w3.org/1999/02/22-rdf-syntax-ns#type> <http://example.org/classes#Sight>."
   ]
  },
  {
   "cell_type": "markdown",
   "metadata": {
    "deletable": false,
    "editable": false,
    "nbgrader": {
     "cell_type": "markdown",
     "checksum": "8423b3ecf4767b8bddfee3a5e7341197",
     "grade": false,
     "grade_id": "cell-f3bf946883727b5f",
     "locked": true,
     "schema_version": 3,
     "solution": false,
     "task": false
    }
   },
   "source": [
    "The following cell is a test cell to check your answer. Please remember that this is only a fraction of the tests to give you an orientation and that the real evaluation is a lot more thorough."
   ]
  },
  {
   "cell_type": "code",
   "execution_count": 53,
   "metadata": {
    "deletable": false,
    "editable": false,
    "nbgrader": {
     "cell_type": "code",
     "checksum": "5bbce85ea329cbb932a7b9181151ad2f",
     "grade": true,
     "grade_id": "cell-c927d061ef093322",
     "locked": true,
     "points": 2,
     "schema_version": 3,
     "solution": false,
     "task": false
    }
   },
   "outputs": [],
   "source": [
    "# This test will check whether your graph is complete and correct. [2 points]\n",
    "from rdflib import URIRef\n",
    "m = \"The graph is missing the following information: {}\"\n",
    "store = %rdf -r\n",
    "g = store['rdfgraphs'][\"sights\"]\n",
    "ex = \"http://example.org/{}\"\n",
    "tower = URIRef(ex.format(\"sights#EiffelTower\"))\n",
    "louvre = URIRef(ex.format(\"sights#Louvre\"))\n",
    "locIn = URIRef(ex.format(\"properties#locatedIn\"))\n",
    "ofType = URIRef(\"http://www.w3.org/1999/02/22-rdf-syntax-ns#type\")\n",
    "sight = URIRef(ex.format(\"classes#Sight\"))\n",
    "france = URIRef(ex.format(\"countries#France\"))\n",
    "assert((tower, locIn, france) in g), m.format(\"The Eiffel Tower is located in France.\")\n",
    "assert((louvre, ofType, sight) in g), m.format(\"The Louvre is a sight.\")"
   ]
  },
  {
   "cell_type": "code",
   "execution_count": 54,
   "metadata": {
    "deletable": false,
    "editable": false,
    "nbgrader": {
     "cell_type": "code",
     "checksum": "cf9940d61fd53964206633f15b2259be",
     "grade": true,
     "grade_id": "cell-d2bfeecaca65d849",
     "locked": true,
     "points": 1,
     "schema_version": 3,
     "solution": false,
     "task": false
    }
   },
   "outputs": [],
   "source": [
    "# This test will check whether your graph is minimal (does not contain additional triples). [1 point]\n",
    "# This point will not be granted when you use CURIEs or define prefixes (which is forbidden in this part of the task)\n",
    "# Some tests - like this one - are instructor only and can't be seen/run by students."
   ]
  },
  {
   "cell_type": "markdown",
   "metadata": {
    "deletable": false,
    "editable": false,
    "nbgrader": {
     "cell_type": "markdown",
     "checksum": "cec20352d55bec9b564f2fc3bb54e2fe",
     "grade": false,
     "grade_id": "cell-af5942891348c4fb",
     "locked": true,
     "schema_version": 3,
     "solution": false,
     "task": false
    }
   },
   "source": [
    "### CURIEs\n",
    "Because we only used full URIs in 1a), the graph looks cluttered and both the graph and the turtle source are hard to read. But many URIs have the same prefix (http://example.org/sights for example) and turtle allows us to define abbreviations for these prefixes. These abbreviated URIs are called *Compact URIs* or *CURIES*. In Turtle, such a prefix is defined using the **@prefix** keyword, followed by the abbreviation, then the URI prefix in angled brackets (&lt; &gt;) and finally a period. For example, if we want to abbreviate *http://example.org/#* with *ex:*, then we need to prepend the following line to the turtle document:\n",
    "\n",
    "**@prefix ex: &lt;http://example.org/#&gt; .**\n",
    "\n",
    "Now we can abbreviate the RDF triple:\n",
    "\n",
    "**&lt;http://example.org/#Germany&gt; &lt;http://example.org/#capital&gt; &lt;http://example.org/#Berlin&gt; .**\n",
    "\n",
    "to:\n",
    "\n",
    "**ex:Germany ex:capital ex:Berlin .**\n",
    "\n",
    "Note, that we omit the angled brackets when using CURIEs.\n",
    "\n",
    "### 1b) Using CURIEs [3 points]\n",
    "Create the same RDF graph as in 1a) but use CURIEs and introduce the following abbreviations:  \n",
    "Abbreviate http://example.org/sights# to **si:**  \n",
    "Abbreviate http://example.org/countries# to **co:**  \n",
    "Abbreviate http://example.org/properties# to **pr:**  \n",
    "Abbreviate http://example.org/classes# to **cl:**  \n",
    "\n",
    "http://www.w3.org/1999/02/22-rdf-syntax-ns# can be abbreviated to **rdf:** (optional)\n",
    "\n",
    "Because the predicate rdf:type (http://www.w3.org/1999/02/22-rdf-syntax-ns#type) is used very frequently, you can just write **a** instead of the URI. Try it!  \n",
    "\n",
    "**Use the defined prefixes whenever they are applicable.**  \n",
    "**You are allowed and even encouraged to define and use as many prefixes as you want in all following tasks and assignments.**"
   ]
  },
  {
   "cell_type": "code",
   "execution_count": 108,
   "metadata": {
    "deletable": false,
    "nbgrader": {
     "cell_type": "code",
     "checksum": "5c0b1da427d39dbb7088a78c75736bc0",
     "grade": false,
     "grade_id": "cell-622f9e5d8ef2cccd",
     "locked": false,
     "schema_version": 3,
     "solution": true,
     "task": false
    }
   },
   "outputs": [
    {
     "data": {
      "image/svg+xml": [
       "<?xml version=\"1.0\" encoding=\"UTF-8\" standalone=\"no\"?>\n",
       "<!DOCTYPE svg PUBLIC \"-//W3C//DTD SVG 1.1//EN\"\n",
       " \"http://www.w3.org/Graphics/SVG/1.1/DTD/svg11.dtd\">\n",
       "<!-- Generated by graphviz version 2.50.0 (0)\n",
       " -->\n",
       "<!-- Pages: 1 -->\n",
       "<svg width=\"468pt\" height=\"131pt\"\n",
       " viewBox=\"0.00 0.00 467.70 131.00\" xmlns=\"http://www.w3.org/2000/svg\" xmlns:xlink=\"http://www.w3.org/1999/xlink\">\n",
       "<g id=\"graph0\" class=\"graph\" transform=\"scale(1 1) rotate(0) translate(4 127)\">\n",
       "<polygon fill=\"white\" stroke=\"transparent\" points=\"-4,4 -4,-127 463.7,-127 463.7,4 -4,4\"/>\n",
       "<!-- 0 -->\n",
       "<g id=\"node1\" class=\"node\">\n",
       "<title>0</title>\n",
       "<ellipse fill=\"none\" stroke=\"black\" cx=\"192.7\" cy=\"-18\" rx=\"38.19\" ry=\"18\"/>\n",
       "<text text-anchor=\"middle\" x=\"192.7\" y=\"-14.3\" font-family=\"Times,serif\" font-size=\"14.00\">cl:Sight</text>\n",
       "</g>\n",
       "<!-- 1 -->\n",
       "<g id=\"node2\" class=\"node\">\n",
       "<title>1</title>\n",
       "<ellipse fill=\"none\" stroke=\"black\" cx=\"37.7\" cy=\"-18\" rx=\"37.89\" ry=\"18\"/>\n",
       "<text text-anchor=\"start\" x=\"16.7\" y=\"-14.3\" font-family=\"Times,serif\" font-size=\"14.00\">co:Italy</text>\n",
       "</g>\n",
       "<!-- 2 -->\n",
       "<g id=\"node3\" class=\"node\">\n",
       "<title>2</title>\n",
       "<ellipse fill=\"none\" stroke=\"black\" cx=\"207.7\" cy=\"-105\" rx=\"44.39\" ry=\"18\"/>\n",
       "<text text-anchor=\"start\" x=\"181.7\" y=\"-101.3\" font-family=\"Times,serif\" font-size=\"14.00\">si:Louvre</text>\n",
       "</g>\n",
       "<!-- 2&#45;&gt;0 -->\n",
       "<g id=\"edge2\" class=\"edge\">\n",
       "<title>2&#45;&gt;0</title>\n",
       "<path fill=\"none\" stroke=\"black\" d=\"M199.59,-87.29C197.23,-81.62 194.95,-75.16 193.7,-69 192.23,-61.8 191.63,-53.89 191.48,-46.53\"/>\n",
       "<polygon fill=\"black\" stroke=\"black\" points=\"194.98,-46.31 191.52,-36.29 187.98,-46.27 194.98,-46.31\"/>\n",
       "<text text-anchor=\"middle\" x=\"215.2\" y=\"-57.8\" font-family=\"Times,serif\" font-size=\"14.00\">rdf:type</text>\n",
       "</g>\n",
       "<!-- 4 -->\n",
       "<g id=\"node5\" class=\"node\">\n",
       "<title>4</title>\n",
       "<ellipse fill=\"none\" stroke=\"black\" cx=\"353.7\" cy=\"-18\" rx=\"45.49\" ry=\"18\"/>\n",
       "<text text-anchor=\"start\" x=\"326.7\" y=\"-14.3\" font-family=\"Times,serif\" font-size=\"14.00\">co:France</text>\n",
       "</g>\n",
       "<!-- 2&#45;&gt;4 -->\n",
       "<g id=\"edge1\" class=\"edge\">\n",
       "<title>2&#45;&gt;4</title>\n",
       "<path fill=\"none\" stroke=\"black\" d=\"M221.33,-87.79C231.1,-77.01 245.06,-63.2 259.7,-54 274.23,-44.87 291.5,-37.58 307.25,-32.07\"/>\n",
       "<polygon fill=\"black\" stroke=\"black\" points=\"308.45,-35.36 316.82,-28.87 306.23,-28.72 308.45,-35.36\"/>\n",
       "<text text-anchor=\"start\" x=\"259.7\" y=\"-57.8\" font-family=\"Times,serif\" font-size=\"14.00\">pr:locatedIn</text>\n",
       "</g>\n",
       "<!-- 3 -->\n",
       "<g id=\"node4\" class=\"node\">\n",
       "<title>3</title>\n",
       "<ellipse fill=\"none\" stroke=\"black\" cx=\"69.7\" cy=\"-105\" rx=\"58.49\" ry=\"18\"/>\n",
       "<text text-anchor=\"start\" x=\"32.7\" y=\"-101.3\" font-family=\"Times,serif\" font-size=\"14.00\">si:Colosseum</text>\n",
       "</g>\n",
       "<!-- 3&#45;&gt;0 -->\n",
       "<g id=\"edge3\" class=\"edge\">\n",
       "<title>3&#45;&gt;0</title>\n",
       "<path fill=\"none\" stroke=\"black\" d=\"M92.54,-88.21C112.57,-74.37 141.8,-54.17 163.51,-39.17\"/>\n",
       "<polygon fill=\"black\" stroke=\"black\" points=\"165.78,-41.85 172.02,-33.29 161.8,-36.1 165.78,-41.85\"/>\n",
       "<text text-anchor=\"middle\" x=\"159.2\" y=\"-57.8\" font-family=\"Times,serif\" font-size=\"14.00\">rdf:type</text>\n",
       "</g>\n",
       "<!-- 3&#45;&gt;1 -->\n",
       "<g id=\"edge4\" class=\"edge\">\n",
       "<title>3&#45;&gt;1</title>\n",
       "<path fill=\"none\" stroke=\"black\" d=\"M51.18,-87.88C46.18,-82.43 41.41,-75.96 38.7,-69 35.95,-61.96 34.95,-53.94 34.84,-46.4\"/>\n",
       "<polygon fill=\"black\" stroke=\"black\" points=\"38.34,-46.34 35.16,-36.24 31.34,-46.12 38.34,-46.34\"/>\n",
       "<text text-anchor=\"start\" x=\"38.7\" y=\"-57.8\" font-family=\"Times,serif\" font-size=\"14.00\">pr:locatedIn</text>\n",
       "</g>\n",
       "<!-- 5 -->\n",
       "<g id=\"node6\" class=\"node\">\n",
       "<title>5</title>\n",
       "<ellipse fill=\"none\" stroke=\"black\" cx=\"380.7\" cy=\"-105\" rx=\"61.99\" ry=\"18\"/>\n",
       "<text text-anchor=\"start\" x=\"341.2\" y=\"-101.3\" font-family=\"Times,serif\" font-size=\"14.00\">si:EiffelTower</text>\n",
       "</g>\n",
       "<!-- 5&#45;&gt;0 -->\n",
       "<g id=\"edge6\" class=\"edge\">\n",
       "<title>5&#45;&gt;0</title>\n",
       "<path fill=\"none\" stroke=\"black\" d=\"M363.54,-87.64C349.08,-73.98 330.06,-56.37 325.7,-54 298.93,-39.46 265.82,-30.72 239.32,-25.61\"/>\n",
       "<polygon fill=\"black\" stroke=\"black\" points=\"239.62,-22.11 229.16,-23.76 238.37,-29 239.62,-22.11\"/>\n",
       "<text text-anchor=\"middle\" x=\"363.2\" y=\"-57.8\" font-family=\"Times,serif\" font-size=\"14.00\">rdf:type</text>\n",
       "</g>\n",
       "<!-- 5&#45;&gt;4 -->\n",
       "<g id=\"edge5\" class=\"edge\">\n",
       "<title>5&#45;&gt;4</title>\n",
       "<path fill=\"none\" stroke=\"black\" d=\"M389.62,-86.81C393.52,-76.92 396.27,-64.42 391.7,-54 389.69,-49.42 386.75,-45.17 383.38,-41.32\"/>\n",
       "<polygon fill=\"black\" stroke=\"black\" points=\"385.59,-38.59 376.02,-34.03 380.66,-43.56 385.59,-38.59\"/>\n",
       "<text text-anchor=\"start\" x=\"393.7\" y=\"-57.8\" font-family=\"Times,serif\" font-size=\"14.00\">pr:locatedIn</text>\n",
       "</g>\n",
       "</g>\n",
       "</svg>\n"
      ],
      "text/plain": [
       "<graphviz.graphs.Digraph at 0x1075424d0>"
      ]
     },
     "metadata": {},
     "output_type": "display_data"
    }
   ],
   "source": [
    "%%rdf turtle -l sights2\n",
    "### YOUR SOLUTION HERE\n",
    "@prefix si: <http://example.org/sights#>.\n",
    "@prefix pr: <http://example.org/properties#>.\n",
    "@prefix cl: <http://example.org/classes#>.\n",
    "@prefix co: <http://example.org/countries#>.\n",
    "\n",
    "\n",
    "<si:Louvre> <pr:locatedIn> <co:France>;\n",
    "a cl:Sight.\n",
    "<si:EiffelTower> <pr:locatedIn> <co:France>;\n",
    "a cl:Sight.\n",
    "<si:Colosseum> <pr:locatedIn> <co:Italy>;\n",
    "a cl:Sight."
   ]
  },
  {
   "cell_type": "code",
   "execution_count": 98,
   "metadata": {
    "deletable": false,
    "editable": false,
    "nbgrader": {
     "cell_type": "code",
     "checksum": "68e8df2519e6e8834e8676802861453e",
     "grade": true,
     "grade_id": "cell-083e36ac4704a48b",
     "locked": true,
     "points": 1,
     "schema_version": 3,
     "solution": false,
     "task": false
    }
   },
   "outputs": [],
   "source": [
    "# This test will check whether you defined all mandatory prefixes [1 point]\n",
    "from rdflib import URIRef\n",
    "store = %rdf -r\n",
    "g = store['rdfgraphs'][\"sights2\"]\n",
    "ns = list(g.namespaces())\n",
    "assert(('si', URIRef(\"http://example.org/sights#\")) in ns)"
   ]
  },
  {
   "cell_type": "code",
   "execution_count": 85,
   "metadata": {
    "deletable": false,
    "editable": false,
    "nbgrader": {
     "cell_type": "code",
     "checksum": "fff9c6d94f145387b1fe46fa1ceaa3e1",
     "grade": true,
     "grade_id": "cell-cc0cb388f72d175c",
     "locked": true,
     "points": 1,
     "schema_version": 3,
     "solution": false,
     "task": false
    }
   },
   "outputs": [],
   "source": [
    "# This test will check whether you actually used CURIEs whenever applicable. [1 point]"
   ]
  },
  {
   "cell_type": "code",
   "execution_count": 86,
   "metadata": {
    "deletable": false,
    "editable": false,
    "nbgrader": {
     "cell_type": "code",
     "checksum": "d5cb6437d567f26d2eb3e5f4c2417704",
     "grade": true,
     "grade_id": "cell-00a42b342af34ba8",
     "locked": true,
     "points": 1,
     "schema_version": 3,
     "solution": false,
     "task": false
    }
   },
   "outputs": [],
   "source": [
    "# This test will check whether the graph is complete and correct. [1 point]"
   ]
  },
  {
   "cell_type": "markdown",
   "metadata": {
    "deletable": false,
    "editable": false,
    "nbgrader": {
     "cell_type": "markdown",
     "checksum": "1e367d7fc0c413eab5975e59bab7cc91",
     "grade": false,
     "grade_id": "cell-0020acafde24d970",
     "locked": true,
     "schema_version": 3,
     "solution": false,
     "task": false
    }
   },
   "source": [
    "## Task 2: Literals [3 points]\n",
    "For basic values such as numbers and strings, it is impractical to use URIs. Instead of URIs we use literals. Literals have a datatype, which is string by default. Literals can only be used in the object position of triples and are encased in double quotes (\" \"). An example for a triple with a string literal is:\n",
    "\n",
    "**ex:Germany ex:name \"Deutschland\" .**\n",
    "\n",
    "To specify a *datatype*, it is appended to the literal with *two carets* (^^). A datatype can be an arbitrary URI, but there are some predefined datatypes which should suffice in most cases. These predefined datatypes use the prefix *http://www.w3.org/2001/XMLSchema#*, which is usually abbreviated with *xsd:*. An example for an integer literal:\n",
    "\n",
    "**ex:Germany ex:population \"83042235\"^^xsd:int .**\n",
    "\n",
    "There are also string literals with a specified language. This is useful for names that differ in different languages. To specify a language, we append a two character language tag with an at symbol (@) behind the literal. The literal is then automatically interpreted as a language tagged string (this datatype is never specified explicitly). To express that ex:germany has a different name in english and in german, one would add two triples:\n",
    "\n",
    "**ex:Germany ex:name \"Deutschland\"@de .**  \n",
    "**ex:Germany ex:name \"Germany\"@en .**  \n",
    "\n",
    "Please note that the URI ex:Germany is **not** the same as the literal \"Germany\" and in some cases you can't deduce the name of an entity from the URI (for example www.wikidata.org uses numerical IDs, e.g https://www.wikidata.org/entity/Q1017).\n",
    "\n",
    "### 2a) Austria [3 points]\n",
    "The task is to create an RDF graph about Austria with Turtle. The graph must contain the following information:\n",
    "\n",
    "Austria is called **Österreich** in german (*de*), **Austria** in english (*en*) and **Oostenrijk** in dutch (*nl*). Austria has a population of **8901064** and an area of **83878.99**km². The capital of Austria is Vienna, which is called **Vienna** in english and **Wenen** in dutch.\n",
    "\n",
    "Use the following URIs:  \n",
    "Austria: http://example.org/countries#Austria  \n",
    "Vienna: http://example.org/cities#Vienna  \n",
    "Capital: http://example.org/properties#capital  \n",
    "Area: http://example.org/properties#area  \n",
    "Population: http://example.org/properties#population  \n",
    "Is called: rdfs:label\n",
    "\n",
    "Language tags:\n",
    "\n",
    "| Language | Tag |\n",
    "| --- | --- |\n",
    "| English | en |\n",
    "| German | de |\n",
    "| Dutch | nl |\n",
    "\n",
    "Only use the datatypes **xsd:string**, **rdf:langString**, **xsd:int** and **xsd:float**.\n",
    "\n",
    "Tip: CURIEs do not change the graph but they make the result more readable and less error prone. Use them whenever possible!"
   ]
  },
  {
   "cell_type": "code",
   "execution_count": 176,
   "metadata": {
    "deletable": false,
    "nbgrader": {
     "cell_type": "code",
     "checksum": "8c62a8376c23bfb1ea925a5792b8a3bc",
     "grade": false,
     "grade_id": "cell-3e75579d76831c23",
     "locked": false,
     "schema_version": 3,
     "solution": true,
     "task": false
    }
   },
   "outputs": [
    {
     "data": {
      "image/svg+xml": [
       "<?xml version=\"1.0\" encoding=\"UTF-8\" standalone=\"no\"?>\n",
       "<!DOCTYPE svg PUBLIC \"-//W3C//DTD SVG 1.1//EN\"\n",
       " \"http://www.w3.org/Graphics/SVG/1.1/DTD/svg11.dtd\">\n",
       "<!-- Generated by graphviz version 2.50.0 (0)\n",
       " -->\n",
       "<!-- Pages: 1 -->\n",
       "<svg width=\"769pt\" height=\"218pt\"\n",
       " viewBox=\"0.00 0.00 769.00 218.00\" xmlns=\"http://www.w3.org/2000/svg\" xmlns:xlink=\"http://www.w3.org/1999/xlink\">\n",
       "<g id=\"graph0\" class=\"graph\" transform=\"scale(1 1) rotate(0) translate(4 214)\">\n",
       "<polygon fill=\"white\" stroke=\"transparent\" points=\"-4,4 -4,-214 765,-214 765,4 -4,4\"/>\n",
       "<!-- 0 -->\n",
       "<g id=\"node1\" class=\"node\">\n",
       "<title>0</title>\n",
       "<ellipse fill=\"none\" stroke=\"black\" cx=\"100\" cy=\"-105\" rx=\"44.69\" ry=\"18\"/>\n",
       "<text text-anchor=\"middle\" x=\"100\" y=\"-101.3\" font-family=\"Times,serif\" font-size=\"14.00\">ci:Vienna</text>\n",
       "</g>\n",
       "<!-- 3 -->\n",
       "<g id=\"node4\" class=\"node\">\n",
       "<title>3</title>\n",
       "<polygon fill=\"none\" stroke=\"black\" points=\"90,-36 0,-36 0,0 90,0 90,-36\"/>\n",
       "<text text-anchor=\"middle\" x=\"45\" y=\"-14.3\" font-family=\"Times,serif\" font-size=\"14.00\">&quot;Wenen&quot;@nl</text>\n",
       "</g>\n",
       "<!-- 0&#45;&gt;3 -->\n",
       "<g id=\"edge8\" class=\"edge\">\n",
       "<title>0&#45;&gt;3</title>\n",
       "<path fill=\"none\" stroke=\"black\" d=\"M84.18,-88.03C78.97,-82.31 73.4,-75.63 69,-69 64.15,-61.7 59.72,-53.27 56.02,-45.44\"/>\n",
       "<polygon fill=\"black\" stroke=\"black\" points=\"59.19,-43.97 51.89,-36.3 52.81,-46.85 59.19,-43.97\"/>\n",
       "<text text-anchor=\"middle\" x=\"95\" y=\"-57.8\" font-family=\"Times,serif\" font-size=\"14.00\">rdfs:label</text>\n",
       "</g>\n",
       "<!-- 6 -->\n",
       "<g id=\"node7\" class=\"node\">\n",
       "<title>6</title>\n",
       "<polygon fill=\"none\" stroke=\"black\" points=\"201.5,-36 108.5,-36 108.5,0 201.5,0 201.5,-36\"/>\n",
       "<text text-anchor=\"middle\" x=\"155\" y=\"-14.3\" font-family=\"Times,serif\" font-size=\"14.00\">&quot;Vienna&quot;@en</text>\n",
       "</g>\n",
       "<!-- 0&#45;&gt;6 -->\n",
       "<g id=\"edge3\" class=\"edge\">\n",
       "<title>0&#45;&gt;6</title>\n",
       "<path fill=\"none\" stroke=\"black\" d=\"M110.87,-87.21C118.72,-75.06 129.49,-58.43 138.41,-44.63\"/>\n",
       "<polygon fill=\"black\" stroke=\"black\" points=\"141.47,-46.35 143.97,-36.05 135.6,-42.54 141.47,-46.35\"/>\n",
       "<text text-anchor=\"middle\" x=\"157\" y=\"-57.8\" font-family=\"Times,serif\" font-size=\"14.00\">rdfs:label</text>\n",
       "</g>\n",
       "<!-- 1 -->\n",
       "<g id=\"node2\" class=\"node\">\n",
       "<title>1</title>\n",
       "<ellipse fill=\"none\" stroke=\"black\" cx=\"426\" cy=\"-192\" rx=\"47.39\" ry=\"18\"/>\n",
       "<text text-anchor=\"middle\" x=\"426\" y=\"-188.3\" font-family=\"Times,serif\" font-size=\"14.00\">co:Austria</text>\n",
       "</g>\n",
       "<!-- 1&#45;&gt;0 -->\n",
       "<g id=\"edge5\" class=\"edge\">\n",
       "<title>1&#45;&gt;0</title>\n",
       "<path fill=\"none\" stroke=\"black\" d=\"M385.93,-182.13C332.46,-170.05 235,-147.14 153,-123 149.85,-122.07 146.6,-121.09 143.33,-120.09\"/>\n",
       "<polygon fill=\"black\" stroke=\"black\" points=\"144.16,-116.68 133.57,-117.04 142.07,-123.36 144.16,-116.68\"/>\n",
       "<text text-anchor=\"middle\" x=\"281.5\" y=\"-144.8\" font-family=\"Times,serif\" font-size=\"14.00\">cp:</text>\n",
       "</g>\n",
       "<!-- 2 -->\n",
       "<g id=\"node3\" class=\"node\">\n",
       "<title>2</title>\n",
       "<polygon fill=\"none\" stroke=\"black\" points=\"271.5,-123 162.5,-123 162.5,-87 271.5,-87 271.5,-123\"/>\n",
       "<text text-anchor=\"middle\" x=\"217\" y=\"-101.3\" font-family=\"Times,serif\" font-size=\"14.00\">&quot;Oostenrijk&quot;@nl</text>\n",
       "</g>\n",
       "<!-- 1&#45;&gt;2 -->\n",
       "<g id=\"edge2\" class=\"edge\">\n",
       "<title>1&#45;&gt;2</title>\n",
       "<path fill=\"none\" stroke=\"black\" d=\"M392.4,-179.18C374.14,-172.61 351.21,-164.15 331,-156 308.58,-146.96 283.98,-136.27 263.4,-127.11\"/>\n",
       "<polygon fill=\"black\" stroke=\"black\" points=\"264.8,-123.9 254.24,-123.01 261.94,-130.29 264.8,-123.9\"/>\n",
       "<text text-anchor=\"middle\" x=\"357\" y=\"-144.8\" font-family=\"Times,serif\" font-size=\"14.00\">rdfs:label</text>\n",
       "</g>\n",
       "<!-- 4 -->\n",
       "<g id=\"node5\" class=\"node\">\n",
       "<title>4</title>\n",
       "<polygon fill=\"none\" stroke=\"black\" points=\"422.5,-123 289.5,-123 289.5,-87 422.5,-87 422.5,-123\"/>\n",
       "<text text-anchor=\"middle\" x=\"356\" y=\"-101.3\" font-family=\"Times,serif\" font-size=\"14.00\">&quot;83042235&quot;^^xsd:int</text>\n",
       "</g>\n",
       "<!-- 1&#45;&gt;4 -->\n",
       "<g id=\"edge1\" class=\"edge\">\n",
       "<title>1&#45;&gt;4</title>\n",
       "<path fill=\"none\" stroke=\"black\" d=\"M412.5,-174.61C402.34,-162.27 388.23,-145.14 376.65,-131.08\"/>\n",
       "<polygon fill=\"black\" stroke=\"black\" points=\"379.23,-128.71 370.18,-123.21 373.83,-133.16 379.23,-128.71\"/>\n",
       "<text text-anchor=\"middle\" x=\"432.5\" y=\"-144.8\" font-family=\"Times,serif\" font-size=\"14.00\">pr:population</text>\n",
       "</g>\n",
       "<!-- 5 -->\n",
       "<g id=\"node6\" class=\"node\">\n",
       "<title>5</title>\n",
       "<polygon fill=\"none\" stroke=\"black\" points=\"551,-123 441,-123 441,-87 551,-87 551,-123\"/>\n",
       "<text text-anchor=\"middle\" x=\"496\" y=\"-101.3\" font-family=\"Times,serif\" font-size=\"14.00\">&quot;Österreich&quot;@de</text>\n",
       "</g>\n",
       "<!-- 1&#45;&gt;5 -->\n",
       "<g id=\"edge6\" class=\"edge\">\n",
       "<title>1&#45;&gt;5</title>\n",
       "<path fill=\"none\" stroke=\"black\" d=\"M450.44,-176.31C458.37,-170.69 466.72,-163.75 473,-156 478.56,-149.14 483.1,-140.71 486.64,-132.75\"/>\n",
       "<polygon fill=\"black\" stroke=\"black\" points=\"489.92,-133.98 490.45,-123.4 483.43,-131.34 489.92,-133.98\"/>\n",
       "<text text-anchor=\"middle\" x=\"509\" y=\"-144.8\" font-family=\"Times,serif\" font-size=\"14.00\">rdfs:label</text>\n",
       "</g>\n",
       "<!-- 7 -->\n",
       "<g id=\"node8\" class=\"node\">\n",
       "<title>7</title>\n",
       "<polygon fill=\"none\" stroke=\"black\" points=\"663,-123 569,-123 569,-87 663,-87 663,-123\"/>\n",
       "<text text-anchor=\"middle\" x=\"616\" y=\"-101.3\" font-family=\"Times,serif\" font-size=\"14.00\">&quot;Austria&quot;@de</text>\n",
       "</g>\n",
       "<!-- 1&#45;&gt;7 -->\n",
       "<g id=\"edge4\" class=\"edge\">\n",
       "<title>1&#45;&gt;7</title>\n",
       "<path fill=\"none\" stroke=\"black\" d=\"M465.17,-181.72C487.39,-175.77 515.38,-167.07 539,-156 554.87,-148.57 571.3,-138.3 584.9,-129\"/>\n",
       "<polygon fill=\"black\" stroke=\"black\" points=\"587.19,-131.67 593.38,-123.07 583.18,-125.93 587.19,-131.67\"/>\n",
       "<text text-anchor=\"middle\" x=\"592\" y=\"-144.8\" font-family=\"Times,serif\" font-size=\"14.00\">rdfs:label</text>\n",
       "</g>\n",
       "<!-- 8 -->\n",
       "<g id=\"node9\" class=\"node\">\n",
       "<title>8</title>\n",
       "<polygon fill=\"none\" stroke=\"black\" points=\"761,-123 681,-123 681,-87 761,-87 761,-123\"/>\n",
       "<text text-anchor=\"middle\" x=\"721\" y=\"-101.3\" font-family=\"Times,serif\" font-size=\"14.00\">&quot;83878.99&quot;</text>\n",
       "</g>\n",
       "<!-- 1&#45;&gt;8 -->\n",
       "<g id=\"edge7\" class=\"edge\">\n",
       "<title>1&#45;&gt;8</title>\n",
       "<path fill=\"none\" stroke=\"black\" d=\"M471.69,-186.65C512.02,-181.92 572,-172.69 622,-156 643.15,-148.94 665.43,-138.03 683.48,-128.21\"/>\n",
       "<polygon fill=\"black\" stroke=\"black\" points=\"685.47,-131.11 692.51,-123.19 682.07,-124.99 685.47,-131.11\"/>\n",
       "<text text-anchor=\"middle\" x=\"674\" y=\"-144.8\" font-family=\"Times,serif\" font-size=\"14.00\">pr:area</text>\n",
       "</g>\n",
       "</g>\n",
       "</svg>\n"
      ],
      "text/plain": [
       "<graphviz.graphs.Digraph at 0x107553250>"
      ]
     },
     "metadata": {},
     "output_type": "display_data"
    }
   ],
   "source": [
    "%%rdf turtle -l literals\n",
    "@prefix rdf: <http://www.w3.org/1999/02/22-rdf-syntax-ns#> .\n",
    "@prefix rdfs: <http://www.w3.org/2000/01/rdf-schema#> .\n",
    "@prefix xsd: <http://www.w3.org/2001/XMLSchema#> .\n",
    "@prefix si: <http://example.org/sights#>.\n",
    "@prefix pr: <http://example.org/properties#>.\n",
    "@prefix cl: <http://example.org/classes#>.\n",
    "@prefix co: <http://example.org/countries#>.\n",
    "@prefix ci: <http://example.org/cities#>.\n",
    "@prefix cp: <http://example.org/properties#capital>.\n",
    "\n",
    "### YOUR SOLUTION HERE\n",
    "co:Austria pr:population \"83042235\"^^xsd:int;\n",
    "pr:area \"83878.99\";\n",
    "rdfs:label \"Österreich\"@de;\n",
    "rdfs:label \"Austria\"@de;\n",
    "rdfs:label \"Oostenrijk\"@nl; \n",
    "pr:capital ci:Vienna.\n",
    "\n",
    "ci:Vienna rdfs:label \"Vienna\"@en;\n",
    "rdfs:label \"Wenen\"@nl."
   ]
  },
  {
   "cell_type": "code",
   "execution_count": 177,
   "metadata": {
    "deletable": false,
    "editable": false,
    "nbgrader": {
     "cell_type": "code",
     "checksum": "6397a553fe3cc0f07fd3d6a25e7c9039",
     "grade": true,
     "grade_id": "cell-ec4e45a2d27a7d3f",
     "locked": true,
     "points": 1,
     "schema_version": 3,
     "solution": false,
     "task": false
    }
   },
   "outputs": [],
   "source": [
    "# This test will check whether your graph contains the facts (even if their datatype,value or quantity is wrong). [1 point]\n",
    "from rdflib import URIRef\n",
    "store = %rdf -r\n",
    "g = store['rdfgraphs'][\"literals\"]\n",
    "ex = \"http://example.org/{}\"\n",
    "au = URIRef(ex.format(\"countries#Austria\"))\n",
    "pop = URIRef(ex.format(\"properties#population\"))\n",
    "vi = URIRef(ex.format(\"cities#Vienna\"))\n",
    "lab = URIRef(\"http://www.w3.org/2000/01/rdf-schema#label\")\n",
    "err = \"The graph does not contain information about {}.\"\n",
    "assert (au, pop, None) in g, err.format(\"Austria's population\")\n",
    "assert (vi, lab, None) in g, err.format(\"Vienna's name\")"
   ]
  },
  {
   "cell_type": "code",
   "execution_count": 178,
   "metadata": {
    "deletable": false,
    "editable": false,
    "nbgrader": {
     "cell_type": "code",
     "checksum": "b79443c2944aaf80b0b6477819509040",
     "grade": true,
     "grade_id": "cell-ee0f15f19acfbd0d",
     "locked": true,
     "points": 1,
     "schema_version": 3,
     "solution": false,
     "task": false
    }
   },
   "outputs": [],
   "source": [
    "# This test will check whether your graph contains all numerical literals with correct datatypes. [1 point]"
   ]
  },
  {
   "cell_type": "code",
   "execution_count": 179,
   "metadata": {
    "deletable": false,
    "editable": false,
    "nbgrader": {
     "cell_type": "code",
     "checksum": "b21e637e389b94cd11d86080a8021185",
     "grade": true,
     "grade_id": "cell-d8cbac1ebdcccb0f",
     "locked": true,
     "points": 1,
     "schema_version": 3,
     "solution": false,
     "task": false
    }
   },
   "outputs": [],
   "source": [
    "# This test will check whether your graph contains all language tagged literals. [1 point]"
   ]
  },
  {
   "cell_type": "markdown",
   "metadata": {
    "deletable": false,
    "editable": false,
    "nbgrader": {
     "cell_type": "markdown",
     "checksum": "0985abaabe7ae9b9c90ca5b7ccfd0c18",
     "grade": false,
     "grade_id": "cell-d95a51a59335c2de",
     "locked": true,
     "schema_version": 3,
     "solution": false,
     "task": false
    }
   },
   "source": [
    "## Task 3: Blank Nodes [3 points]\n",
    "Sometimes resources do not or should not have an identifier but still stand in relation to other resources. These anonymous resources are represented by blank nodes in RDF graphs. In Turtle, blank nodes are are represented with an underscore followed by a colon and an identifier (\\_:identifier). The purpose of the identifier is to be able to locally reference the anonymous resource multiple times. Even if two blank nodes in different graphs use the same identifier, they usually reference a different resource. For example, when you want to express that you know someone who is a professor but doesn't have an identifier and there is someone else you don't know who is also a professor, you do it like this:\n",
    "\n",
    "**ex:me ex:knows \\_:1 .  \n",
    "\\_:1 rdf:type ex:professor .  \n",
    "\\_:2 rdf:type ex:professor .**\n",
    "\n",
    "You know \\_:1 but don't know \\_:2 but they are both professors.\n",
    "\n",
    "Additionally, blank nodes are often used to represent n-ary relations. For example, a grading that needs to have a grade and a grader can be expressed like this:\n",
    "\n",
    "**ex:student ex:grading \\_:1 .  \n",
    "\\_:1 ex:grade \"1.0\" .  \n",
    "\\_:1 ex:grader ex:professor .**\n",
    "\n",
    "**Syntactic sugar:**  \n",
    "To make this more readable, you can instead use square brackets (\\[ \\]) and every predicate-object-combination in between the square brackets will reference the same blank node. The grade example would then look like this:\n",
    "\n",
    "**ex:student ex:grading \\[  \n",
    "&nbsp;&nbsp;&nbsp;&nbsp;ex:grade \"1.0\" ;  \n",
    "&nbsp;&nbsp;&nbsp;&nbsp;ex:grader ex:professor  \n",
    "\\] .**\n",
    "\n",
    "Note that we must use semicolons and commas in between the brackets (see syntactic sugar at top of assignment) and there is still a period after the brackets.\n",
    "\n",
    "Also Note that the blank node identifier is exchangable as long as we use the same one when referencing the same node. That is why the bracket notation does not need an identifier.\n",
    "\n",
    "### 3a) I know someone who lives somewhere [3 points]\n",
    "Create an RDF graph using turtle that expresses the following:  \n",
    "You, a person without an identifier, knows another person without an identifier, who lives at the following address:\n",
    "\n",
    "Street: Templergraben  \n",
    "House number: 55  \n",
    "Postal code: 52062  \n",
    "City: Aachen\n",
    "\n",
    "Use the following URIs:  \n",
    "Type: rdf:type  \n",
    "Knows: foaf:knows  \n",
    "Person: http://example.org/classes#Person  \n",
    "Address: http://example.org/properties#address  \n",
    "Street: http://example.org/properties#street  \n",
    "House number: http://example.org/properties#houseNumber  \n",
    "Postal code: http://example.org/properties#postalCode  \n",
    "City: http://example.org/properties#city  \n",
    "\n",
    "Hint: use an n-ary relation for the address.\n",
    "\n",
    "**Use only string literals without language tags.**"
   ]
  },
  {
   "cell_type": "code",
   "execution_count": null,
   "metadata": {
    "deletable": false,
    "nbgrader": {
     "cell_type": "code",
     "checksum": "79a506cd3eb3e91d9e2ea74a90ba5570",
     "grade": false,
     "grade_id": "cell-865f7b3dbf506688",
     "locked": false,
     "schema_version": 3,
     "solution": true,
     "task": false
    }
   },
   "outputs": [],
   "source": [
    "%%rdf turtle -l bnodes\n",
    "@prefix rdf: <http://www.w3.org/1999/02/22-rdf-syntax-ns#> .\n",
    "@prefix foaf: <http://xmlns.com/foaf/0.1/> .\n",
    "@prefix xsd: <http://www.w3.org/2001/XMLSchema#> .\n",
    "### YOUR SOLUTION HERE\n"
   ]
  },
  {
   "cell_type": "code",
   "execution_count": null,
   "metadata": {
    "deletable": false,
    "editable": false,
    "nbgrader": {
     "cell_type": "code",
     "checksum": "215d24621daf48fb93b6f86a8239841f",
     "grade": true,
     "grade_id": "cell-c99512ff1812ee4d",
     "locked": true,
     "points": 1,
     "schema_version": 3,
     "solution": false,
     "task": false
    }
   },
   "outputs": [],
   "source": [
    "# This test will check whether there is an anonymous person that knows another anonymous person. [1 point]"
   ]
  },
  {
   "cell_type": "code",
   "execution_count": null,
   "metadata": {
    "deletable": false,
    "editable": false,
    "nbgrader": {
     "cell_type": "code",
     "checksum": "4fed1f72fcd8f0716d453131de412727",
     "grade": true,
     "grade_id": "cell-34bb05ce1f74e4e4",
     "locked": true,
     "points": 1,
     "schema_version": 3,
     "solution": false,
     "task": false
    }
   },
   "outputs": [],
   "source": [
    "# This test will check whether there is an anonymous entity with an n-ary address. [1 point]"
   ]
  },
  {
   "cell_type": "code",
   "execution_count": null,
   "metadata": {
    "deletable": false,
    "editable": false,
    "nbgrader": {
     "cell_type": "code",
     "checksum": "111a0c7bc027a0cebaf090b53c52ef58",
     "grade": true,
     "grade_id": "cell-b317826a68e2bede",
     "locked": true,
     "points": 1,
     "schema_version": 3,
     "solution": false,
     "task": false
    }
   },
   "outputs": [],
   "source": [
    "# This test will check whether there is a correct n-ary address. [1 point]"
   ]
  }
 ],
 "metadata": {
  "kernelspec": {
   "display_name": "Python 3 (ipykernel)",
   "language": "python",
   "name": "python3"
  },
  "language_info": {
   "codemirror_mode": {
    "name": "ipython",
    "version": 3
   },
   "file_extension": ".py",
   "mimetype": "text/x-python",
   "name": "python",
   "nbconvert_exporter": "python",
   "pygments_lexer": "ipython3",
   "version": "3.10.9"
  }
 },
 "nbformat": 4,
 "nbformat_minor": 4
}
