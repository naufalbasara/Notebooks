{
 "cells": [
  {
   "cell_type": "code",
   "execution_count": null,
   "metadata": {
    "deletable": false,
    "editable": false,
    "nbgrader": {
     "cell_type": "code",
     "checksum": "ae0c74aacde83ff97c2f002a918bc287",
     "grade": false,
     "grade_id": "cell-0783aaa83db8ff42",
     "locked": true,
     "schema_version": 3,
     "solution": false,
     "task": false
    }
   },
   "outputs": [],
   "source": [
    "%reload_ext jupyter-rdfify"
   ]
  },
  {
   "cell_type": "code",
   "execution_count": null,
   "metadata": {
    "deletable": false,
    "editable": false,
    "nbgrader": {
     "cell_type": "code",
     "checksum": "963d34679bbcc425a92e9500b2ef5dec",
     "grade": false,
     "grade_id": "cell-af515fa937df43ae",
     "locked": true,
     "schema_version": 3,
     "solution": false,
     "task": false
    }
   },
   "outputs": [],
   "source": [
    "# This cell defines some helpers, imports and strings for tests. Run it!\n",
    "from rdflib import Variable, URIRef, Literal, XSD\n",
    "s = \"http://example.org/subjects#{}\"\n",
    "p = \"http://example.org/properties#{}\"\n",
    "c = \"http://example.org/classes#{}\"\n",
    "lab = \"http://www.w3.org/2000/01/rdf-schema#label\"\n",
    "err = \"Your query gave no result.\"\n",
    "def project(bindings, variables):\n",
    "    result = list()\n",
    "    for binding in bindings:\n",
    "        result.append(binding.project(variables))\n",
    "    return result\n",
    "def bindingToString(binding):\n",
    "    res = \"\"\n",
    "    for var in binding:\n",
    "        res += f\"{var.n3()} -> {binding[var].n3()}\\n\"\n",
    "    return res\n",
    "def lenCheck(bindings, length, msg=None):\n",
    "    assert len(bindings) == length, \\\n",
    "        f\"Your query returned the wrong number of results. It returned {len(bindings)} but should have returned {length}.\\n\" \\\n",
    "        + (msg if msg is not None else \"\")\n",
    "def exCheck(bindings, binding):\n",
    "    assert binding in bindings, \\\n",
    "        f\"Your result is missing the following binding:\\n{bindingToString(binding)}\"\n",
    "def bindCheck(bindings, pos, binding):\n",
    "    assert(bindings[pos] == binding), \\\n",
    "        f\"\"\"The result of your query has the wrong binding in position {pos}.\n",
    "            Expected binding:\\n{bindingToString(binding)}\n",
    "            Your binding:\\n{bindingToString(bindings[pos])}\"\"\"\n",
    "def uri(prefix, name):\n",
    "    return URIRef(prefix.format(name))"
   ]
  },
  {
   "cell_type": "markdown",
   "metadata": {
    "deletable": false,
    "editable": false,
    "nbgrader": {
     "cell_type": "markdown",
     "checksum": "f6b5c539c5ecb877b52b8c342d5b5135",
     "grade": false,
     "grade_id": "cell-f54cf67d6cecc000",
     "locked": true,
     "schema_version": 3,
     "solution": false,
     "task": false
    }
   },
   "source": [
    "# SPARQL\n",
    "SPARQL stands for **S**PARQL **P**rotocol **A**nd **R**DF **Q**uery **L**anguage and is a [W3C recommended](https://www.w3.org/TR/sparql11-overview/) language for querying and manipulating RDF graph content. As its syntax is similar Turtle, we will first look at an example:\n",
    "\n",
    "**PREFIX ex: http://example.org/#<br>   \n",
    "SELECT ?countryName ?capitalName  \n",
    "WHERE {  \n",
    "&nbsp;&nbsp;&nbsp;&nbsp;ex:Germany ex:name ?countryName .  \n",
    "&nbsp;&nbsp;&nbsp;&nbsp;ex:Germany ex:capital ?capital .  \n",
    "&nbsp;&nbsp;&nbsp;&nbsp;?capital ex:name ?capitalName  \n",
    "}**\n",
    "\n",
    "The following information was extracted from the [W3C SPARQL Query Language Specification](https://www.w3.org/TR/2013/REC-sparql11-query-20130321/). If you have any questions regarding SPARQL please first consult this document.\n",
    "\n",
    "## Prefixes\n",
    "As in Turtle, we can define *prefixes* to make our query more human-readable. In SPARQL, prefix declarations start with the keyword **PREFIX** and are then followed by the desired abbreviation and then the IRI to abbreviate. This syntax also works in turtle but note that there is *no period* at the end of the line (in contrary to the *@prefix* syntax which only works in Turtle). In the example above, we abbreviate the URI http://example.org/# to *ex:*.\n",
    "\n",
    "\n",
    "## Queries\n",
    "After all our prefix declarations, the query starts. First we need to specify a *query type*. SPARQL defines four query types which all match a given graph pattern against an RDF graph but differ in what they return:\n",
    "- **SELECT:** Queries return the variable bindings of user-specified variables which satisfy the given graph pattern.\n",
    "- **ASK:** Queries return a boolean result based on whether the given graph pattern could be matched against the RDF graph or not.\n",
    "- **CONSTRUCT:** Queries return a new graph which is constructed from a template and the variable bindings which satisfy the given graph pattern.\n",
    "- **DESCRIBE:** Queries return an RDF graph which describes the resource based on what the query service deems important (different query services can yield different results for the same graph).\n",
    "\n",
    "In our example above, we use a SELECT query. The graph pattern follows after the keyword **WHERE** and is surrounded by braces ({}).\n",
    "## Basic Graph Patterns\n",
    "We use so-called **Graph Patterns** to query an RDF graph. *Basic Graph Patterns* look very similar to Turtle as they use the same triple syntax. The only difference is that in Graph Patterns, we can also use variables at every position where an IRI can be used. Variables always start with a question mark and need an identifier. The graph pattern in our example (after the WHERE keyword) features three variables - namely ?countryName, ?capital and ?capitalName - in three triples. When matching a Graph Pattern against an RDF graph, the query service searches for variables bindings such that the Graph Pattern matches a part of the queried graph. When a variable occurs more than once in a pattern, both occurences have to be bound to the same value in a match. Also note that the period at the end of a line represents a conjuction (AND), which is why we the last period of a Graph Pattern is optional. There are also more complex Graph Patterns called Group Graph Patterns, which we will cover later on.\n",
    "\n",
    "## Parameters\n",
    "The four query types take different parameters:  \n",
    "- **SELECT:** A set of variables delimited by spaces, on which the variable bindings should be projected. In our example we use the three variables ?capital, ?capitalName and ?countryName but we only want the last two to appear in our results, thus we specify ?capitalName and ?countryName after the SELECT keyword. If you want to project all variables, you can use an asterisk (\\*) at this position.\n",
    "- **ASK:** No parameters except for the graph pattern to match the RDF graph against.\n",
    "- **CONSTRUCT:** A Basic Graph Pattern as a template and a Graph Pattern for matching. The variable bindings resulting from matching the Graph Pattern against the RDF graph are then used to construct a new graph based on the template. When no template is given, the Graph Pattern used for matching is also used as the template but then only Basic Graph Patterns are allowed.\n",
    "- **DESCRIBE:** A set of variables and IRIs delimited by space which should be described by the resulting graph. One can also provide a Graph Pattern to identify resources or give constraints.\n",
    "\n",
    "## FROM Statement\n",
    "One can also use a FROM or a FROM NAMED statement to specify a dataset which should be queried. With this multiple graphs can be queried and/or merged. This won't be needed in this exercise but if you're interested you can [read about it](https://www.w3.org/TR/sparql11-query/#specifyingDataset).\n",
    "\n",
    "## Syntactic Sugar\n",
    "All the syntactic sugar from Turtle can also be used in SPARQL Graph Patterns!\n",
    "\n",
    "## Graph: Simpsons\n",
    "The RDF graph below contains some information about a family called Simpsons.\n",
    "**You must run the following cell or the graph won't be in scope for following tasks.**"
   ]
  },
  {
   "cell_type": "code",
   "execution_count": null,
   "metadata": {
    "deletable": false,
    "editable": false,
    "nbgrader": {
     "cell_type": "code",
     "checksum": "3e9c37112eb8fc323eed8d35a6365cb6",
     "grade": false,
     "grade_id": "cell-df044b5f1b195eff",
     "locked": true,
     "schema_version": 3,
     "solution": false,
     "task": false
    }
   },
   "outputs": [],
   "source": [
    "%%rdf turtle -l simpsons\n",
    "PREFIX rdfs: <http://www.w3.org/2000/01/rdf-schema#>\n",
    "PREFIX s: <http://example.org/subjects#>\n",
    "PREFIX p: <http://example.org/properties#>\n",
    "PREFIX c: <http://example.org/classes#>\n",
    "\n",
    "s:Homer a c:FictionalCharacter, c:Male ;\n",
    "    p:spouse s:Marge ;\n",
    "    p:parent s:Abraham ;\n",
    "    p:parent s:Mona ;\n",
    "    rdfs:label \"Homer J. Simpson\" .\n",
    "s:Marge a c:FictionalCharacter, c:Female ;\n",
    "    p:spouse s:Homer ;\n",
    "    rdfs:label \"Marge Simpson\" .\n",
    "s:Bart a c:FictionalCharacter, c:Male ;\n",
    "    p:parent s:Homer ;\n",
    "    p:parent s:Marge ;\n",
    "    p:sibling s:Lisa ;\n",
    "    p:sibling s:Maggie ;\n",
    "    rdfs:label \"Bart Simpson\" .\n",
    "s:Lisa a c:FictionalCharacter, c:Female ;\n",
    "    p:parent s:Homer ;\n",
    "    p:parent s:Marge ;\n",
    "    p:sibling s:Bart ;\n",
    "    p:sibling s:Maggie ;\n",
    "    rdfs:label \"Lisa Simpson\" .\n",
    "s:Maggie a c:FictionalCharacter, c:Female ;\n",
    "    p:parent s:Homer ;\n",
    "    p:parent s:Marge ;\n",
    "    p:sibling s:Bart ;\n",
    "    p:sibling s:Lisa ;\n",
    "    rdfs:label \"Maggie Simpson\" .\n",
    "s:Mona a c:FictionalCharacter, c:Female ;\n",
    "    rdfs:label \"Mona Simpson\" .\n",
    "s:Abraham a c:FictionalCharacter, c:Male ;\n",
    "    rdfs:label \"Abraham Simpson\" .\n",
    "s:Matt a c:Person, c:Male ;\n",
    "    rdfs:label \"Matt Groening\" ."
   ]
  },
  {
   "cell_type": "markdown",
   "metadata": {
    "deletable": false,
    "editable": false,
    "nbgrader": {
     "cell_type": "markdown",
     "checksum": "aef9ea8af31d92abdd887911df7d9087",
     "grade": false,
     "grade_id": "cell-bfabead684f54bd3",
     "locked": true,
     "schema_version": 3,
     "solution": false,
     "task": false
    }
   },
   "source": [
    "The Cell below will define some prefixes which can be used throughout the whole exercise notebook. You do not need to define them yourself and can just use them. You need to run the cell or you won't be able to use them."
   ]
  },
  {
   "cell_type": "code",
   "execution_count": null,
   "metadata": {
    "deletable": false,
    "editable": false,
    "nbgrader": {
     "cell_type": "code",
     "checksum": "84182776b4d1801cfe6d27f9cb90f9b2",
     "grade": false,
     "grade_id": "cell-927d0fa8a05cd4c7",
     "locked": true,
     "schema_version": 3,
     "solution": false,
     "task": false
    }
   },
   "outputs": [],
   "source": [
    "%%rdf sparql --prefix\n",
    "PREFIX rdfs: <http://www.w3.org/2000/01/rdf-schema#>\n",
    "PREFIX xsd: <http://www.w3.org/2001/XMLSchema#>\n",
    "PREFIX s: <http://example.org/subjects#>\n",
    "PREFIX p: <http://example.org/properties#>\n",
    "PREFIX c: <http://example.org/classes#>"
   ]
  },
  {
   "cell_type": "markdown",
   "metadata": {
    "deletable": false,
    "editable": false,
    "nbgrader": {
     "cell_type": "markdown",
     "checksum": "73c5d6e9fdbfab140fcbc14959272db7",
     "grade": false,
     "grade_id": "cell-4b1eafccc15945ac",
     "locked": true,
     "schema_version": 3,
     "solution": false,
     "task": false
    }
   },
   "source": [
    "## Task 1: Basic Queries [1.5 points]\n",
    "Formulate the following questions as SPARQL queries using simple SELECT queries, variables and Basic Graph Patterns. You can use as many variables as you need but the answer to the question must be bound to the variable **?result**. For example, if the question is \"What is the name of germany?\", the solution would be:\n",
    "\n",
    "**SELECT ?result  \n",
    "WHERE {  \n",
    "&nbsp;&nbsp;&nbsp;&nbsp;ex:Germany rdfs:label ?result  \n",
    "}**\n",
    "\n",
    "Please note the difference between a resource (an IRI) and the name of a resource (a human readable literal often assigned with the predicate *rdfs:label*). Read the question carefully and try to recognize whether we are asking for an entity (e.g. Who is xy?) or for the name of an entity (e.g. What is xy's name?).\n",
    "\n",
    "**This task refers to [this graph](#Graph:-Simpsons) about a family called Simpsons. Assume a closed world (information that isn't explicitly stated is false).**\n",
    "\n",
    "### 1a) [0.5 points]\n",
    "Who are Homer Simpson's parents?"
   ]
  },
  {
   "cell_type": "code",
   "execution_count": null,
   "metadata": {
    "deletable": false,
    "nbgrader": {
     "cell_type": "code",
     "checksum": "bd10115fc21e2af2fca6541a70c956fb",
     "grade": false,
     "grade_id": "cell-86a2319bde5487c2",
     "locked": false,
     "schema_version": 3,
     "solution": true,
     "task": false
    }
   },
   "outputs": [],
   "source": [
    "%%rdf sparql -l simpsons -s 1a\n",
    "### YOUR SOLUTION HERE"
   ]
  },
  {
   "cell_type": "code",
   "execution_count": null,
   "metadata": {
    "deletable": false,
    "editable": false,
    "nbgrader": {
     "cell_type": "code",
     "checksum": "a254fa3e45b5195e81eb09a8579d1dbb",
     "grade": true,
     "grade_id": "cell-7e16991aa7f445d4",
     "locked": true,
     "points": 0.5,
     "schema_version": 3,
     "solution": false,
     "task": false
    }
   },
   "outputs": [],
   "source": [
    "# This test checks whether your query gives the correct result. [0.5 points]\n",
    "store = %rdf -r\n",
    "assert '1a' in store['rdfresults'], err\n",
    "var = Variable(\"result\")\n",
    "b = store['rdfresults'][\"1a\"].bindings\n",
    "lenCheck(b, 2)\n",
    "exCheck(b, {var: uri(s,\"Mona\")})"
   ]
  },
  {
   "cell_type": "markdown",
   "metadata": {
    "deletable": false,
    "editable": false,
    "nbgrader": {
     "cell_type": "markdown",
     "checksum": "52cfda017a42676acc36e1063b2c6750",
     "grade": false,
     "grade_id": "cell-79e3247f768bbc80",
     "locked": true,
     "schema_version": 3,
     "solution": false,
     "task": false
    }
   },
   "source": [
    "### 1b) [0.5 points]\n",
    "Whose mother is Marge Simpson? Hint: A query can result in multiple bindings"
   ]
  },
  {
   "cell_type": "code",
   "execution_count": null,
   "metadata": {
    "deletable": false,
    "nbgrader": {
     "cell_type": "code",
     "checksum": "6b70f2b3346862cc45d29120c4690821",
     "grade": false,
     "grade_id": "cell-76add1fe5dc1a462",
     "locked": false,
     "schema_version": 3,
     "solution": true,
     "task": false
    }
   },
   "outputs": [],
   "source": [
    "%%rdf sparql -l simpsons -s 1b\n",
    "### YOUR SOLUTION HERE"
   ]
  },
  {
   "cell_type": "code",
   "execution_count": null,
   "metadata": {
    "deletable": false,
    "editable": false,
    "nbgrader": {
     "cell_type": "code",
     "checksum": "9e9bf6aafdf01bd9a1629c555ccb541d",
     "grade": true,
     "grade_id": "cell-4188b77eb41c645d",
     "locked": true,
     "points": 0.5,
     "schema_version": 3,
     "solution": false,
     "task": false
    }
   },
   "outputs": [],
   "source": [
    "# This test will check whether your query returns the right results. [0.5 points]\n",
    "store = %rdf -r\n",
    "assert '1b' in store['rdfresults'], err\n",
    "var = Variable(\"result\")\n",
    "b = store['rdfresults'][\"1b\"].bindings\n",
    "exCheck(b, {var: uri(s, \"Maggie\")})"
   ]
  },
  {
   "cell_type": "markdown",
   "metadata": {
    "deletable": false,
    "editable": false,
    "nbgrader": {
     "cell_type": "markdown",
     "checksum": "2febef97c9a52a7fa4ed96150faf3412",
     "grade": false,
     "grade_id": "cell-281362feba0b6c88",
     "locked": true,
     "schema_version": 3,
     "solution": false,
     "task": false
    }
   },
   "source": [
    "### 1c) [0.5 points]\n",
    "How is Marge Simpson related to Homer Simpson? Hint: Variables can also be used at predicate positions."
   ]
  },
  {
   "cell_type": "code",
   "execution_count": null,
   "metadata": {
    "deletable": false,
    "nbgrader": {
     "cell_type": "code",
     "checksum": "6be2c88eda918ecff82e4010ba940684",
     "grade": false,
     "grade_id": "cell-8a5d8ebe54cd2359",
     "locked": false,
     "schema_version": 3,
     "solution": true,
     "task": false
    }
   },
   "outputs": [],
   "source": [
    "%%rdf sparql -l simpsons -s 1c\n",
    "### YOUR SOLUTION HERE"
   ]
  },
  {
   "cell_type": "code",
   "execution_count": null,
   "metadata": {
    "deletable": false,
    "editable": false,
    "nbgrader": {
     "cell_type": "code",
     "checksum": "49a6e45e2772a2ad8283f29272037d73",
     "grade": true,
     "grade_id": "cell-5edc8389f843f823",
     "locked": true,
     "points": 0.5,
     "schema_version": 3,
     "solution": false,
     "task": false
    }
   },
   "outputs": [],
   "source": [
    "# This test will check whether your query returns the right results. [0.5 points]\n",
    "store = %rdf -r\n",
    "assert '1c' in store['rdfresults'], err\n",
    "var = Variable(\"result\")\n",
    "b = store['rdfresults'][\"1c\"].bindings\n",
    "lenCheck(b, 1)"
   ]
  },
  {
   "cell_type": "markdown",
   "metadata": {
    "deletable": false,
    "editable": false,
    "nbgrader": {
     "cell_type": "markdown",
     "checksum": "626036e4adb96064f7b65faa12f5b359",
     "grade": false,
     "grade_id": "cell-dc1c0ec9fce9513a",
     "locked": true,
     "schema_version": 3,
     "solution": false,
     "task": false
    }
   },
   "source": [
    "## Task 2: Constructing Queries [2 points]\n",
    "Formulate the following questions as SPARQL queries. You can use as many variables as you need but the answer to the question must be bound to the variable **?result**. Again, please note that the URI/IRI of a resource is not the same as the literal name of that resource.\n",
    "\n",
    "**This task refers to [this graph](#Graph:-Simpsons) about a family called Simpsons. Assume a closed world (information that isn't explicitly stated is false).**\n",
    "\n",
    "### 2a) [0.5 points]\n",
    "Who is called \"Abraham Simpson\"? Hint: Basic Graph Patterns can also match literals for equality."
   ]
  },
  {
   "cell_type": "code",
   "execution_count": null,
   "metadata": {
    "deletable": false,
    "nbgrader": {
     "cell_type": "code",
     "checksum": "8f63129630a674768cf21a5d2c45c9e2",
     "grade": false,
     "grade_id": "cell-8a19febbeea3348a",
     "locked": false,
     "schema_version": 3,
     "solution": true,
     "task": false
    }
   },
   "outputs": [],
   "source": [
    "%%rdf sparql -l simpsons -s 2a\n",
    "### YOUR SOLUTION HERE"
   ]
  },
  {
   "cell_type": "code",
   "execution_count": null,
   "metadata": {
    "deletable": false,
    "editable": false,
    "nbgrader": {
     "cell_type": "code",
     "checksum": "341510bccfdbd5ae4d83b88da602eaad",
     "grade": true,
     "grade_id": "cell-2bbdf09d330113c4",
     "locked": true,
     "points": 0.5,
     "schema_version": 3,
     "solution": false,
     "task": false
    }
   },
   "outputs": [],
   "source": [
    "# This test will check whether your query returns the right results. [0.5 points]\n",
    "store = %rdf -r\n",
    "assert '2a' in store['rdfresults'], err\n",
    "var = Variable(\"result\")\n",
    "b = store['rdfresults'][\"2a\"].bindings\n",
    "lenCheck(b, 1)"
   ]
  },
  {
   "cell_type": "markdown",
   "metadata": {
    "deletable": false,
    "editable": false,
    "nbgrader": {
     "cell_type": "markdown",
     "checksum": "d94ca1d8fb8a0b6f3f827cee91f2af58",
     "grade": false,
     "grade_id": "cell-ee7226c0b86effa4",
     "locked": true,
     "schema_version": 3,
     "solution": false,
     "task": false
    }
   },
   "source": [
    "### 2b) [0.5 points]\n",
    "What are the names of all fictional characters?"
   ]
  },
  {
   "cell_type": "code",
   "execution_count": null,
   "metadata": {
    "deletable": false,
    "nbgrader": {
     "cell_type": "code",
     "checksum": "c4ba9c8d025a1f035ae64f34ea4131c1",
     "grade": false,
     "grade_id": "cell-387c3d5f180def78",
     "locked": false,
     "schema_version": 3,
     "solution": true,
     "task": false
    }
   },
   "outputs": [],
   "source": [
    "%%rdf sparql -l simpsons -s 2b\n",
    "### YOUR SOLUTION HERE"
   ]
  },
  {
   "cell_type": "code",
   "execution_count": null,
   "metadata": {
    "deletable": false,
    "editable": false,
    "nbgrader": {
     "cell_type": "code",
     "checksum": "2a4a4f2e1a8f64801e35d825f963b11d",
     "grade": true,
     "grade_id": "cell-92f463e4509cb4b3",
     "locked": true,
     "points": 0.5,
     "schema_version": 3,
     "solution": false,
     "task": false
    }
   },
   "outputs": [],
   "source": [
    "# This test will check whether your query returns the right results. [0.5 points]\n",
    "store = %rdf -r\n",
    "assert '2b' in store['rdfresults'], err\n",
    "var = Variable(\"result\")\n",
    "b = store['rdfresults']['2b'].bindings\n",
    "exCheck(b, {var: Literal(\"Marge Simpson\")})\n",
    "exCheck(b, {var: Literal(\"Lisa Simpson\")})"
   ]
  },
  {
   "cell_type": "markdown",
   "metadata": {
    "deletable": false,
    "editable": false,
    "nbgrader": {
     "cell_type": "markdown",
     "checksum": "9fb807558a40efdb2ef4ae60d02ba785",
     "grade": false,
     "grade_id": "cell-0cc3737fb28eac4b",
     "locked": true,
     "schema_version": 3,
     "solution": false,
     "task": false
    }
   },
   "source": [
    "### 2c) [1 point]\n",
    "What are the names of all fathers?  \n",
    "Do **not** use the DISTINCT keyword.  \n",
    "Note: This query will yield the same binding for ?result multiple times. Think about why that is. If you can't think of a reason try projecting the other variables as well."
   ]
  },
  {
   "cell_type": "code",
   "execution_count": null,
   "metadata": {
    "deletable": false,
    "nbgrader": {
     "cell_type": "code",
     "checksum": "75596a3e8bee6e504e923c0a942b0cd8",
     "grade": false,
     "grade_id": "cell-bb3c364c57df25ad",
     "locked": false,
     "schema_version": 3,
     "solution": true,
     "task": false
    }
   },
   "outputs": [],
   "source": [
    "%%rdf sparql -l simpsons -s 2c\n",
    "### YOUR SOLUTION HERE"
   ]
  },
  {
   "cell_type": "code",
   "execution_count": null,
   "metadata": {
    "deletable": false,
    "editable": false,
    "nbgrader": {
     "cell_type": "code",
     "checksum": "78751cba712869f0e8a13eb203100b42",
     "grade": true,
     "grade_id": "cell-f82b48b140972195",
     "locked": true,
     "points": 1,
     "schema_version": 3,
     "solution": false,
     "task": false
    }
   },
   "outputs": [],
   "source": [
    "# This test will check whether your query returns the right results. [1 point]\n",
    "store = %rdf -r\n",
    "assert '2c', err\n",
    "var = Variable(\"result\")\n",
    "b = store['rdfresults']['2c'].bindings\n",
    "b = project(b, [var])\n",
    "exCheck(b, {var: Literal(\"Abraham Simpson\")})"
   ]
  },
  {
   "cell_type": "markdown",
   "metadata": {
    "deletable": false,
    "editable": false,
    "nbgrader": {
     "cell_type": "markdown",
     "checksum": "3cde38573051bb3dc89f1d17bfc77af8",
     "grade": false,
     "grade_id": "cell-a2a0a7e40dee5a5c",
     "locked": true,
     "schema_version": 3,
     "solution": false,
     "task": false
    }
   },
   "source": [
    "## Solution Modifiers\n",
    "SPARQL provides many ways to modify the result of a query. These are all applied after pattern matching and in the sequence that they are introduced here.\n",
    "\n",
    "### ORDER BY\n",
    "\n",
    "**SELECT ?employee WHERE {  \n",
    "&nbsp;&nbsp;&nbsp;&nbsp;?employee a c:Employee .  \n",
    "&nbsp;&nbsp;&nbsp;&nbsp;?employee p:income ?income  \n",
    "}<br>\n",
    "ORDER BY DESC(?income)**\n",
    "\n",
    "The **ORDER BY** modifier can be used to sort the bindings by a specific variable. The example above sorts all employees descending by income. To sort ascending instead, either use **ASC** instead of **DESC** or just omit DESC as ASC is the default. When using no ORDER BY, the results are in no specific sequence and may vary from service to service.\n",
    "\n",
    "### DISTINCT\n",
    "\n",
    "**SELECT DISTINCT ?parent WHERE {  \n",
    "&nbsp;&nbsp;&nbsp;&nbsp;?parent p:child ?child .  \n",
    "}**\n",
    "\n",
    "The **DISTINCT** modifier can be used to eliminate duplicate bindings. The example above shows all parents with at least one child but it shows all parents only once, even if they have multiple children. This could have been used in 2c). Note that DISTINCT only looks at projected variables.\n",
    "\n",
    "### OFFSET\n",
    "\n",
    "**SELECT ?employee WHERE {\n",
    "&nbsp;&nbsp;&nbsp;&nbsp;?employee a c:Employee .  \n",
    "}<br>\n",
    "OFFSET 3**\n",
    "\n",
    "The **OFFSET** modifier skips the first n>=0 results. The example above shows all employees but skips the first 3. OFFSET does nothing for n=0. OFFSET is often combined with ORDER BY and LIMIT to give predictable results (e.g. skip the 3 employees with the highest income).\n",
    "\n",
    "### LIMIT\n",
    "\n",
    "**SELECT ?employee WHERE {  \n",
    "&nbsp;&nbsp;&nbsp;&nbsp;?employee a c:Employee .  \n",
    "}<br>\n",
    "LIMIT 3**\n",
    "\n",
    "The **LIMIT** modifier specifies an upper bound n>=0 to the number of solutions returned. The example above shows only the first three employees. For n=0 no results will be returned. LIMIT is often combined with ORDER BY and LIMIT to give predictable results (e.g. only show the 3 employees with the highest income).\n",
    "\n",
    "## Graph: Scientists\n",
    "The following graph contains information about some well-known scientists.  \n",
    "**You must run the following cell or the graph won't be in scope for following tasks.**"
   ]
  },
  {
   "cell_type": "code",
   "execution_count": null,
   "metadata": {
    "deletable": false,
    "editable": false,
    "nbgrader": {
     "cell_type": "code",
     "checksum": "afa9204e8a6d903c8da05abea8e0e483",
     "grade": false,
     "grade_id": "cell-122d6f3a1ae75ed5",
     "locked": true,
     "schema_version": 3,
     "solution": false,
     "task": false
    }
   },
   "outputs": [],
   "source": [
    "%%rdf turtle -l scientists\n",
    "PREFIX rdfs: <http://www.w3.org/2000/01/rdf-schema#>\n",
    "PREFIX xsd: <http://www.w3.org/2001/XMLSchema#>\n",
    "PREFIX s: <http://example.org/subjects#>\n",
    "PREFIX p: <http://example.org/properties#>\n",
    "PREFIX c: <http://example.org/classes#>\n",
    "\n",
    "s:Einstein a c:Person, c:Physicist ;\n",
    "    p:born \"1879\"^^xsd:integer ;\n",
    "    p:wonNobelPrize \"1921\"^^xsd:integer ;\n",
    "    rdfs:label \"Albert Einstein\" .\n",
    "s:Nobel a c:Person, c:Chemist ;\n",
    "    p:born \"1833\"^^xsd:integer ;\n",
    "    rdfs:label \"Alfred Nobel\" .\n",
    "s:Curie a c:Person, c:Physicist, c:Chemist ;\n",
    "    p:born \"1867\"^^xsd:integer ;\n",
    "    p:wonNobelPrize \"1903\"^^xsd:integer ;\n",
    "    p:wonNobelPrize \"1911\"^^xsd:integer ;\n",
    "    rdfs:label \"Marie Curie\" .\n",
    "s:Koch a c:Person, c:Physician, c:Microbiologist ;\n",
    "    p:born \"1843\"^^xsd:integer ;\n",
    "    p:wonNobelPrize \"1905\"^^xsd:integer ;\n",
    "    rdfs:label \"Robert Koch\" .\n",
    "s:Röntgen a c:Person, c:Physicist ;\n",
    "    p:born \"1845\"^^xsd:integer ;\n",
    "    p:wonNobelPrize \"1901\"^^xsd:integer ;\n",
    "    rdfs:label \"Wilhelm Conrad Röntgen\" ."
   ]
  },
  {
   "cell_type": "markdown",
   "metadata": {
    "deletable": false,
    "editable": false,
    "nbgrader": {
     "cell_type": "markdown",
     "checksum": "d187ee109553384dd0dd43db624ca23b",
     "grade": false,
     "grade_id": "cell-ef97a467f6b8290d",
     "locked": true,
     "schema_version": 3,
     "solution": false,
     "task": false
    }
   },
   "source": [
    "## Task 3: Modifying Solutions [2.5 points]\n",
    "Use the above keywords to obtain the desired information with SPARQL queries.\n",
    "\n",
    "**This task refers to [this graph](#Graph:-Scientists) about scientists. Assume a closed world (information that isn't explicitly stated is false).**\n",
    "\n",
    "### 3a) [0.5 points]\n",
    "The names of all persons that have won a nobel prize, ordered alphabetically without duplicates.\n",
    "Use variable **?name** for the name."
   ]
  },
  {
   "cell_type": "code",
   "execution_count": null,
   "metadata": {
    "deletable": false,
    "nbgrader": {
     "cell_type": "code",
     "checksum": "49d13f17cdfbf2612ec9c6e74abb252b",
     "grade": false,
     "grade_id": "cell-b2e6b033a3eb53f8",
     "locked": false,
     "schema_version": 3,
     "solution": true,
     "task": false
    }
   },
   "outputs": [],
   "source": [
    "%%rdf sparql -l scientists -s 3a\n",
    "### YOUR SOLUTION HERE"
   ]
  },
  {
   "cell_type": "code",
   "execution_count": null,
   "metadata": {
    "deletable": false,
    "editable": false,
    "nbgrader": {
     "cell_type": "code",
     "checksum": "4ce0d89992e3c8e31f824a2eb34a46a4",
     "grade": true,
     "grade_id": "cell-2467587e8fcb9bee",
     "locked": true,
     "points": 0.5,
     "schema_version": 3,
     "solution": false,
     "task": false
    }
   },
   "outputs": [],
   "source": [
    "# This test will check whether your query returns the right results. [0.5 points]\n",
    "store = %rdf -r\n",
    "assert '3a' in store['rdfresults'], err\n",
    "name = Variable(\"name\")\n",
    "b = store['rdfresults'][\"3a\"].bindings\n",
    "b = project(b, [name])\n",
    "bindCheck(b, 0, {name: Literal(\"Albert Einstein\")})\n",
    "bindCheck(b, 2, {name: Literal(\"Robert Koch\")})"
   ]
  },
  {
   "cell_type": "markdown",
   "metadata": {
    "deletable": false,
    "editable": false,
    "nbgrader": {
     "cell_type": "markdown",
     "checksum": "e3759e64e0159de11ef04ccd8bd1d534",
     "grade": false,
     "grade_id": "cell-71b74a7ee6a7b9c3",
     "locked": true,
     "schema_version": 3,
     "solution": false,
     "task": false
    }
   },
   "source": [
    "### 3b) [1 point]\n",
    "The second, third and fourth nobel prize sorted ascending by year with their respective owner's name.\n",
    "Use variable **?year** for the year and **?name** for the name."
   ]
  },
  {
   "cell_type": "code",
   "execution_count": null,
   "metadata": {
    "deletable": false,
    "nbgrader": {
     "cell_type": "code",
     "checksum": "a5eb4d43ad902a995e0515897ff12d2d",
     "grade": false,
     "grade_id": "cell-79bcb7f2d508e165",
     "locked": false,
     "schema_version": 3,
     "solution": true,
     "task": false
    }
   },
   "outputs": [],
   "source": [
    "%%rdf sparql -l scientists -s 3b\n",
    "### YOUR SOLUTION HERE"
   ]
  },
  {
   "cell_type": "code",
   "execution_count": null,
   "metadata": {
    "deletable": false,
    "editable": false,
    "nbgrader": {
     "cell_type": "code",
     "checksum": "c91e892d517abd8730c0bafceab2f52b",
     "grade": true,
     "grade_id": "cell-e1075d31b9e38dc4",
     "locked": true,
     "points": 1,
     "schema_version": 3,
     "solution": false,
     "task": false
    }
   },
   "outputs": [],
   "source": [
    "# This test will check whether your query returns the right results. [1 point]"
   ]
  },
  {
   "cell_type": "markdown",
   "metadata": {
    "deletable": false,
    "editable": false,
    "nbgrader": {
     "cell_type": "markdown",
     "checksum": "4c53b2734c4ef35411431c3e39a140ea",
     "grade": false,
     "grade_id": "cell-f6041ec1c9f41c12",
     "locked": true,
     "schema_version": 3,
     "solution": false,
     "task": false
    }
   },
   "source": [
    "### 3c) [1 point]\n",
    "The name and birth year of the owner of the last nobel prize. Use variable **?name** for the name and **?year** for the birth year."
   ]
  },
  {
   "cell_type": "code",
   "execution_count": null,
   "metadata": {
    "deletable": false,
    "nbgrader": {
     "cell_type": "code",
     "checksum": "666d5ca2f26e0873588a95a092210f08",
     "grade": false,
     "grade_id": "cell-c78a55372321d463",
     "locked": false,
     "schema_version": 3,
     "solution": true,
     "task": false
    }
   },
   "outputs": [],
   "source": [
    "%%rdf sparql -l scientists -s 3c\n",
    "### YOUR SOLUTION HERE"
   ]
  },
  {
   "cell_type": "code",
   "execution_count": null,
   "metadata": {
    "deletable": false,
    "editable": false,
    "nbgrader": {
     "cell_type": "code",
     "checksum": "b9c4735213e1c629723e3e3267220020",
     "grade": true,
     "grade_id": "cell-39485e7b1e65abf9",
     "locked": true,
     "points": 1,
     "schema_version": 3,
     "solution": false,
     "task": false
    }
   },
   "outputs": [],
   "source": [
    "# This test will check whether your query returns the right results. [1 point]"
   ]
  },
  {
   "cell_type": "markdown",
   "metadata": {
    "deletable": false,
    "editable": false,
    "nbgrader": {
     "cell_type": "markdown",
     "checksum": "12735fbe6d752b990f17d617ea276724",
     "grade": false,
     "grade_id": "cell-cc819fea603ed4ce",
     "locked": true,
     "schema_version": 3,
     "solution": false,
     "task": false
    }
   },
   "source": [
    "## Group Graph Patterns\n",
    "Basic Graph Patterns are intuitive but have limited expressiveness. Group Graph Patterns allow us to group Basic Graph Patterns and then perform operations with these groups. A Group Graph Pattern is delimited with braces ({}) and inside the same syntax as with Basic Graph Patterns is used.\n",
    "\n",
    "### Optional Values\n",
    "Sometimes data is incomplete but we still want to query it (i.e. do a left join with the incomplete data). We want to query all employees but some have not provided a telephone number. We can do it like this:\n",
    "\n",
    "**SELECT ?employee ?number WHERE {  \n",
    "&nbsp;&nbsp;&nbsp;&nbsp;?employee a c:Employee .  \n",
    "&nbsp;&nbsp;&nbsp;&nbsp;OPTIONAL { ?employee p:telephoneNumber ?number . }  \n",
    "}**\n",
    "\n",
    "The **OPTIONAL** keyword uses a Group Graph Pattern to allow for optional matching. When the optional Group Graph Pattern could not be matched, the resulting variable binding will be empty but all variables outside of the optional pattern will still be bound.\n",
    "\n",
    "### Unions\n",
    "Basic Graph Patterns are always conjunctive, meaning that all triples must be matched. With Group Graph Patterns, we can define two patterns and then unify their resulting variable bindings (i.e. create a disjunction). If we want to get all telephone numbers and e-mail addresses of all employees we could do it like this:\n",
    "\n",
    "**SELECT ?employee ?contact WHERE {  \n",
    "&nbsp;&nbsp;&nbsp;&nbsp;?employee a c:Employee .  \n",
    "&nbsp;&nbsp;&nbsp;&nbsp;{ ?employee p:telephoneNumber ?contact . }  \n",
    "&nbsp;&nbsp;&nbsp;&nbsp;UNION  \n",
    "&nbsp;&nbsp;&nbsp;&nbsp;{ ?employee p:email ?contact . }  \n",
    "}**\n",
    "\n",
    "Here we define two Group Graph Patterns, one for telephone numbers  and one for e-mail addresses and then join their results.\n",
    "\n",
    "## Task 4: Complex Queries [3 points]\n",
    "Use Group Graph Patterns to obtain the desired information with SPARQL queries.\n",
    "\n",
    "**This task refers to [this graph](#Graph:-Scientists) about scientists. Assume a closed world (information that isn't explicitly stated is false).**\n",
    "\n",
    "### 4a) [1.5 points]\n",
    "The names of all chemists and the year in which they have won a nobel prize. If they have won no nobel prize the year should be an empty value (None). Use variables **?name** for the name and **?year** for the nobel prize year. Multiple entries for the same chemist are allowed."
   ]
  },
  {
   "cell_type": "code",
   "execution_count": null,
   "metadata": {
    "deletable": false,
    "nbgrader": {
     "cell_type": "code",
     "checksum": "c603edb95055fc7cacf64b345806dbeb",
     "grade": false,
     "grade_id": "cell-a6e4b2be3f9696f4",
     "locked": false,
     "schema_version": 3,
     "solution": true,
     "task": false
    }
   },
   "outputs": [],
   "source": [
    "%%rdf sparql -l scientists -s 4a\n",
    "### YOUR SOLUTION HERE"
   ]
  },
  {
   "cell_type": "code",
   "execution_count": null,
   "metadata": {
    "deletable": false,
    "editable": false,
    "nbgrader": {
     "cell_type": "code",
     "checksum": "e3b33b3db795b0b7d4ac9b8b70332835",
     "grade": true,
     "grade_id": "cell-b0d4da031d476cd6",
     "locked": true,
     "points": 1.5,
     "schema_version": 3,
     "solution": false,
     "task": false
    }
   },
   "outputs": [],
   "source": [
    "# This test will check whether your query returns the right results. [1.5 points]"
   ]
  },
  {
   "cell_type": "markdown",
   "metadata": {
    "deletable": false,
    "editable": false,
    "nbgrader": {
     "cell_type": "markdown",
     "checksum": "8f91205d545668b35004b2b60f9252d1",
     "grade": false,
     "grade_id": "cell-ddb497aad5179ea8",
     "locked": true,
     "schema_version": 3,
     "solution": false,
     "task": false
    }
   },
   "source": [
    "### 4b) [1.5 points]\n",
    "The names of all physicists as well as the names of all physicians ordered alphabetically. Use variable **?name** for the name."
   ]
  },
  {
   "cell_type": "code",
   "execution_count": null,
   "metadata": {
    "deletable": false,
    "nbgrader": {
     "cell_type": "code",
     "checksum": "215598126b7927c7588e6296fbd783a2",
     "grade": false,
     "grade_id": "cell-b89f27c6e40b6f5a",
     "locked": false,
     "schema_version": 3,
     "solution": true,
     "task": false
    }
   },
   "outputs": [],
   "source": [
    "%%rdf sparql -l scientists -s 4b\n",
    "### YOUR SOLUTION HERE"
   ]
  },
  {
   "cell_type": "code",
   "execution_count": null,
   "metadata": {
    "deletable": false,
    "editable": false,
    "nbgrader": {
     "cell_type": "code",
     "checksum": "f685bb2d6b73e8628cb2bddfe83a1bb2",
     "grade": true,
     "grade_id": "cell-90bffd4426f56aca",
     "locked": true,
     "points": 1.5,
     "schema_version": 3,
     "solution": false,
     "task": false
    }
   },
   "outputs": [],
   "source": [
    "# This test will check whether your query returns the right results. [1.5 points]"
   ]
  },
  {
   "cell_type": "markdown",
   "metadata": {
    "deletable": false,
    "editable": false,
    "nbgrader": {
     "cell_type": "markdown",
     "checksum": "0bd85d2d4e0346c79426fc7746080d78",
     "grade": false,
     "grade_id": "cell-ab1174718d327a96",
     "locked": true,
     "schema_version": 3,
     "solution": false,
     "task": false
    }
   },
   "source": [
    "## Filters, Functions, Modifiers and Aggregates\n",
    "With Group Graph Patterns and Solution Modifiers we can efficiently query RDF graphs but what if we actually want to do something with the data like calculating an average, filtering specific values or binding our own values? There are many ways to do this and we will introduce the most important ones.\n",
    "\n",
    "### Filters\n",
    "One can filter values inside a Group Graph Pattern by using the **FILTER** function. Inside the parantheses of the filter function we have to provide a filter expression. A Filter expression uses operators like \\<, =, \\> \\<=, \\>= and != to compare variables and literals with specific datatypes. We can also use arithmetic operators like +, -, \\* and /. We can also combine multiple filter expressions with AND (&&), OR (||) and NOT (!). Filters are always applied to the whole Group Pattern in which they reside. There are also many functions which can be used in filter expressions like **contains** which checks if a string contains another string or **str** which converts a literal to its literal value (without datatype) or **regex** which matches a string with a full regular expression. Example:\n",
    "\n",
    "**SELECT \\* WHERE {  \n",
    "&nbsp;&nbsp;&nbsp;&nbsp;?employee a c:Employee ;  \n",
    "&nbsp;&nbsp;&nbsp;&nbsp;?employee rdfs:label ?name ;  \n",
    "&nbsp;&nbsp;&nbsp;&nbsp;&nbsp;&nbsp;&nbsp;&nbsp;p:income ?income .  \n",
    "&nbsp;&nbsp;&nbsp;&nbsp;FILTER (str(?name) != \"Angela\" && contains(?name, \"la\") && ?income > 450)  \n",
    "}**\n",
    "\n",
    "Here we show all employees with their name and income who have an income larger than 450, aren't called \"Angela\" and whose name contains \"la\".\n",
    "\n",
    "### Aggregates\n",
    "To calculate values over multiple results, we need to use aggregate functions. The most important aggregate functions are min, max, avg, sum and count. These can simply be used in the projection. Aggregate functions always work on groups of results and compute separately for each group. By default all results are one big group but you can use the **GROUP BY** modifier to specify a variable to group by. For example if you want to know for all employers what the average income of their employees is, you could do it like this:\n",
    "\n",
    "**SELECT ?employer (sum(?income) AS ?incomeSum) WHERE {  \n",
    "&nbsp;&nbsp;&nbsp;&nbsp;?employer a c:Employer .  \n",
    "&nbsp;&nbsp;&nbsp;&nbsp;?employee a c:Employee ;  \n",
    "&nbsp;&nbsp;&nbsp;&nbsp;&nbsp;&nbsp;&nbsp;&nbsp;p:worksFor ?employer ;  \n",
    "&nbsp;&nbsp;&nbsp;&nbsp;&nbsp;&nbsp;&nbsp;&nbsp;p:income ?income .   \n",
    "}\n",
    "GROUP BY ?employer**\n",
    "\n",
    "Please note that it is obligatory to bind the result with the **AS** keyword and surround the expression with parentheses. You can also use other functions and arithmetic operators on the left side of the AS, for example to remove a 10% tax you could do **(sum(?income)*0.9 AS ?incomeSum)** instead.\n",
    "\n",
    "### Manual Binding\n",
    "One can also bind their own values to variables using the BIND keyword. If you want to get the difference in population of Germany and Sweden:\n",
    "\n",
    "**SELECT ?diff WHERE {  \n",
    "&nbsp;&nbsp;&nbsp;&nbsp;s:Germany p:population ?x .  \n",
    "&nbsp;&nbsp;&nbsp;&nbsp;s:Sweden p:population ?y .  \n",
    "&nbsp;&nbsp;&nbsp;&nbsp;BIND (abs(?x - ?y) AS ?diff)  \n",
    "}**\n",
    "\n",
    "Again, you can use all kinds of expressions on the left side of the AS keyword.\n",
    "\n",
    "### Graph: Movies\n",
    "This graph contains information about some of the highest grossing films.  \n",
    "**You must run the following cell or the graph won't be in scope for following tasks.**"
   ]
  },
  {
   "cell_type": "code",
   "execution_count": null,
   "metadata": {
    "deletable": false,
    "editable": false,
    "nbgrader": {
     "cell_type": "code",
     "checksum": "77101b2069e3122aab70b324f3812d7f",
     "grade": false,
     "grade_id": "cell-2b8a837df3f11a9d",
     "locked": true,
     "schema_version": 3,
     "solution": false,
     "task": false
    }
   },
   "outputs": [],
   "source": [
    "%%rdf turtle -l movies\n",
    "PREFIX rdfs: <http://www.w3.org/2000/01/rdf-schema#>\n",
    "PREFIX xsd: <http://www.w3.org/2001/XMLSchema#>\n",
    "PREFIX s: <http://example.org/subjects#>\n",
    "PREFIX p: <http://example.org/properties#>\n",
    "PREFIX c: <http://example.org/classes#>\n",
    "s:Titanic a c:Movie ;\n",
    "    p:year \"1997\"^^xsd:integer ;\n",
    "    p:gross \"2194439542\"^^xsd:integer ;\n",
    "    p:directedBy s:Cameron ;\n",
    "    rdfs:label \"Titanic\" .\n",
    "s:StarWars a c:Movie ;\n",
    "    p:year \"2015\"^^xsd:integer ;\n",
    "    p:gross \"2068223624\"^^xsd:integer ;\n",
    "    p:directedBy s:Abrams ;\n",
    "    rdfs:label \"Star Wars: The Force Awakens\" .\n",
    "s:JurassicWorld a c:Movie ;\n",
    "    p:year \"2015\"^^xsd:integer ;\n",
    "    p:gross \"1671713208\"^^xsd:integer ;\n",
    "    p:directedBy s:Trevorrow ;\n",
    "    rdfs:label \"Jurassic World\" .\n",
    "s:Endgame a c:Movie ;\n",
    "    p:year \"2019\"^^xsd:integer ;\n",
    "    p:gross \"2797800564\"^^xsd:integer ;\n",
    "    p:directedBy s:Russo ;\n",
    "    rdfs:label \"Avengers: Endgame\" .\n",
    "s:InfinityWar a c:Movie ;\n",
    "    p:year \"2018\"^^xsd:integer ;\n",
    "    p:gross \"2048359754\"^^xsd:integer ;\n",
    "    p:directedBy s:Russo ;\n",
    "    rdfs:label \"Avengers: Infinity War\" .\n",
    "s:Avatar a c:Movie ;\n",
    "    p:year \"2009\"^^xsd:integer ;\n",
    "    p:gross \"2790439000\"^^xsd:integer ;\n",
    "    p:directedBy s:Cameron ;\n",
    "    rdfs:label \"Avatar\" .\n",
    "\n",
    "s:Russo a c:Director ;\n",
    "    rdfs:label \"Anthony Russo\" .\n",
    "s:Cameron a c:Director ;\n",
    "    rdfs:label \"James Cameron\" .\n",
    "s:Abrams a c:Director ;\n",
    "    rdfs:label \"J. J. Abrams\" .\n",
    "s:Trevorrow a c:Director ;\n",
    "    rdfs:label \"Colin Trevorrow\" ."
   ]
  },
  {
   "cell_type": "markdown",
   "metadata": {
    "deletable": false,
    "editable": false,
    "nbgrader": {
     "cell_type": "markdown",
     "checksum": "e474ac8bdb51af59e1aea88e38d42887",
     "grade": false,
     "grade_id": "cell-f330176735a1e3ff",
     "locked": true,
     "schema_version": 3,
     "solution": false,
     "task": false
    }
   },
   "source": [
    "## TASK 5: The Movies [5 points]\n",
    "Use everything you have learned to obtain the desired information with SPARQL queries.\n",
    "\n",
    "**This task refers to [this graph](#Graph:-Movies) about movies. Assume a closed world (information that isn't explicitly stated is false).**\n",
    "\n",
    "### 5a) [1.5 points]\n",
    "The name of all directors together with the sum of gross incomes of all their movies. Sort the results descending by the sum of gross incomes. Use variables **?name** for the director's name and **?grossSum** for the sum of all gross incomes."
   ]
  },
  {
   "cell_type": "code",
   "execution_count": null,
   "metadata": {
    "deletable": false,
    "nbgrader": {
     "cell_type": "code",
     "checksum": "5869b49e8aeaf1436853bcd8d51e0aab",
     "grade": false,
     "grade_id": "cell-000a10ecee874479",
     "locked": false,
     "schema_version": 3,
     "solution": true,
     "task": false
    }
   },
   "outputs": [],
   "source": [
    "%%rdf sparql -l movies -s 5a\n",
    "### YOUR SOLUTION HERE"
   ]
  },
  {
   "cell_type": "code",
   "execution_count": null,
   "metadata": {
    "deletable": false,
    "editable": false,
    "nbgrader": {
     "cell_type": "code",
     "checksum": "7a709ef8931f8324fd92d0758a7bf7c5",
     "grade": true,
     "grade_id": "cell-b94b70c51629cbda",
     "locked": true,
     "points": 1.5,
     "schema_version": 3,
     "solution": false,
     "task": false
    }
   },
   "outputs": [],
   "source": [
    "# This test will check whether your query returns the right results. [1.5 points]"
   ]
  },
  {
   "cell_type": "markdown",
   "metadata": {
    "deletable": false,
    "editable": false,
    "nbgrader": {
     "cell_type": "markdown",
     "checksum": "122f58d308413353103b477ca1350fbb",
     "grade": false,
     "grade_id": "cell-00329ede2eea9a03",
     "locked": true,
     "schema_version": 3,
     "solution": false,
     "task": false
    }
   },
   "source": [
    "### 5b) [1.5 points]\n",
    "The name of all movies and their release year that were released after 2010. Sort the result ascending by the release date. Use variables **?name** for the movie's name and **?year** for the release year. **Use the FILTER function.**"
   ]
  },
  {
   "cell_type": "code",
   "execution_count": null,
   "metadata": {
    "deletable": false,
    "nbgrader": {
     "cell_type": "code",
     "checksum": "f38c616e7d2501baf10734cba91ebfae",
     "grade": false,
     "grade_id": "cell-1ffe69f7cbb685ee",
     "locked": false,
     "schema_version": 3,
     "solution": true,
     "task": false
    }
   },
   "outputs": [],
   "source": [
    "%%rdf sparql -l movies -s 5b\n",
    "### YOUR SOLUTION HERE"
   ]
  },
  {
   "cell_type": "code",
   "execution_count": null,
   "metadata": {
    "deletable": false,
    "editable": false,
    "nbgrader": {
     "cell_type": "code",
     "checksum": "49a14a8cc3736b36a1c9986ae73ee1cf",
     "grade": true,
     "grade_id": "cell-b66efd57e624aee9",
     "locked": true,
     "points": 1.5,
     "schema_version": 3,
     "solution": false,
     "task": false
    }
   },
   "outputs": [],
   "source": [
    "# This test will check whether your query returns the right results. [1.5 points]"
   ]
  },
  {
   "cell_type": "markdown",
   "metadata": {
    "deletable": false,
    "editable": false,
    "nbgrader": {
     "cell_type": "markdown",
     "checksum": "45818b221fceef3c4e48562c68f0f372",
     "grade": false,
     "grade_id": "cell-7a070bc4661969e6",
     "locked": true,
     "schema_version": 3,
     "solution": false,
     "task": false
    }
   },
   "source": [
    "### 5c) [2 points]\n",
    "The names of all movies before 2005 and the names of all movies after 2016 together with a string that either says \"before 2005\" or \"after 2016\" based on the release date. Sort the result ascending by the release date. Use variables **?name** for the movie's name and **?when** for the string.  \n",
    "Hint: Use manual bindings."
   ]
  },
  {
   "cell_type": "code",
   "execution_count": null,
   "metadata": {
    "deletable": false,
    "nbgrader": {
     "cell_type": "code",
     "checksum": "a78fb72603b05e7dd9db744442132827",
     "grade": false,
     "grade_id": "cell-93942859f2911504",
     "locked": false,
     "schema_version": 3,
     "solution": true,
     "task": false
    }
   },
   "outputs": [],
   "source": [
    "%%rdf sparql -l movies -s 5c\n",
    "### YOUR SOLUTION HERE"
   ]
  },
  {
   "cell_type": "code",
   "execution_count": null,
   "metadata": {
    "deletable": false,
    "editable": false,
    "nbgrader": {
     "cell_type": "code",
     "checksum": "d57ad2992c8157b1ab3c1bbcd0b8e554",
     "grade": true,
     "grade_id": "cell-80450b3f3c51f14a",
     "locked": true,
     "points": 2,
     "schema_version": 3,
     "solution": false,
     "task": false
    }
   },
   "outputs": [],
   "source": [
    "# This test will check whether your query returns the right results. [2 points]"
   ]
  }
 ],
 "metadata": {
  "kernelspec": {
   "display_name": "Python 3 (ipykernel)",
   "language": "python",
   "name": "python3"
  },
  "language_info": {
   "codemirror_mode": {
    "name": "ipython",
    "version": 3
   },
   "file_extension": ".py",
   "mimetype": "text/x-python",
   "name": "python",
   "nbconvert_exporter": "python",
   "pygments_lexer": "ipython3",
   "version": "3.10.9"
  }
 },
 "nbformat": 4,
 "nbformat_minor": 4
}
